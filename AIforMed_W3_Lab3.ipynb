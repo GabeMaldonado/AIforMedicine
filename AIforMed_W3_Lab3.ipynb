{
  "nbformat": 4,
  "nbformat_minor": 0,
  "metadata": {
    "colab": {
      "name": "AIforMed_W3_Lab3.ipynb",
      "provenance": [],
      "collapsed_sections": [],
      "authorship_tag": "ABX9TyPX/m9j9gg45cx2lfSOrwus",
      "include_colab_link": true
    },
    "kernelspec": {
      "name": "python3",
      "display_name": "Python 3"
    }
  },
  "cells": [
    {
      "cell_type": "markdown",
      "metadata": {
        "id": "view-in-github",
        "colab_type": "text"
      },
      "source": [
        "<a href=\"https://colab.research.google.com/github/GabeMaldonado/AIforMedicine/blob/master/AIforMed_W3_Lab3.ipynb\" target=\"_parent\"><img src=\"https://colab.research.google.com/assets/colab-badge.svg\" alt=\"Open In Colab\"/></a>"
      ]
    },
    {
      "cell_type": "markdown",
      "metadata": {
        "id": "TabME-0BeMdw",
        "colab_type": "text"
      },
      "source": [
        "# Implementing the U-Net Architecture Using Keras\n",
        "\n",
        "U-Nets are used for image segmentation. This architecture features a series of down-convolutions connected by max-pooling operations followed by a series of up-convolutions conected by upsampling and concatenation operations. Each down-convolution is also connected directly by the concatenation operation in the up-sampling portion of the network. \n",
        "\n",
        "## U-Net Diagram\n",
        "\n",
        "![U-Net diagram. Source: Wikipedia.](https://upload.wikimedia.org/wikipedia/commons/2/2b/Example_architecture_of_U-Net_for_producing_k_256-by-256_image_masks_for_a_256-by-256_RGB_image.png)\n",
        "\n",
        "\n",
        "\n",
        "\n",
        "\n",
        "\n"
      ]
    },
    {
      "cell_type": "code",
      "metadata": {
        "id": "h_MOKPe_fgCW",
        "colab_type": "code",
        "outputId": "07c7d772-f777-47f4-8a99-a7d1c52f2e98",
        "colab": {
          "base_uri": "https://localhost:8080/",
          "height": 68
        }
      },
      "source": [
        "# import required libraries to build U-Net\n",
        "\n",
        "import pandas as pd\n",
        "import numpy as np\n",
        "import matplotlib.pyplot as plt\n",
        "import seaborn as sns\n",
        "import keras\n",
        "from keras import backend as K \n",
        "from keras.engine import Input, Model\n",
        "from keras.layers import Conv3D, MaxPooling3D, UpSampling3D, Activation, BatchNormalization, PReLU, Deconvolution3D\n",
        "from keras.optimizers import Adam\n",
        "from keras.layers.merge import concatenate \n",
        "\n",
        "# Set the image shape to have channels in first dimension\n",
        "\n",
        "K.set_image_data_format(\"channels_first\")"
      ],
      "execution_count": 1,
      "outputs": [
        {
          "output_type": "stream",
          "text": [
            "/usr/local/lib/python3.6/dist-packages/statsmodels/tools/_testing.py:19: FutureWarning: pandas.util.testing is deprecated. Use the functions in the public API at pandas.testing instead.\n",
            "  import pandas.util.testing as tm\n",
            "Using TensorFlow backend.\n"
          ],
          "name": "stderr"
        }
      ]
    },
    {
      "cell_type": "code",
      "metadata": {
        "id": "2uuQ9fPP99sq",
        "colab_type": "code",
        "colab": {}
      },
      "source": [
        "import tensorflow as tf"
      ],
      "execution_count": 0,
      "outputs": []
    },
    {
      "cell_type": "markdown",
      "metadata": {
        "id": "QbPL9IAwy-Yu",
        "colab_type": "text"
      },
      "source": [
        "## Depth of the U-Net\n",
        "\n",
        "The depth of the U-Net is determined by the number of down-convolutions in the architecture. For isntance, the diagram of the U-Net above has a depth of four because it has 4 down-convolutions including the one at the bottom of the U. \n",
        "In this lab, the depth of the U-Net will be two as we will declare two down-convolutions. Here we will be doing image segmentation so in addition to *height* and *width* the input later would also have *length*. Here we are deliberately using the work *length* to describe the third spatial dimension of the input so we do not confuse it with the *depth* of the U-Net. \n",
        "The sahpe of the input layer is ```(num_channels, height, width, length)``` where ```num_channels``` can be thought of as as the color channels in an image, ```height```, ```width```, and ```lenght``` are just the size of the input.\n",
        "The value for these parameter are:\n",
        "*   ```num_channels = 4```\n",
        "*   ```height = 160```\n",
        "*   ```width = 160```\n",
        "*   ```length = 16```\n",
        "\n"
      ]
    },
    {
      "cell_type": "code",
      "metadata": {
        "id": "swY1MMbqhy77",
        "colab_type": "code",
        "outputId": "b1fd9e41-4590-453a-e5f1-fbb33090e85b",
        "colab": {
          "base_uri": "https://localhost:8080/",
          "height": 34
        }
      },
      "source": [
        "# Define an input layer tensor of the shape show above\n",
        "\n",
        "input_layer = Input(shape=(4, 160, 160, 16))\n",
        "input_layer"
      ],
      "execution_count": 3,
      "outputs": [
        {
          "output_type": "execute_result",
          "data": {
            "text/plain": [
              "<tf.Tensor 'input_1:0' shape=(None, 4, 160, 160, 16) dtype=float32>"
            ]
          },
          "metadata": {
            "tags": []
          },
          "execution_count": 3
        }
      ]
    },
    {
      "cell_type": "markdown",
      "metadata": {
        "id": "pMie1vR74Nu7",
        "colab_type": "text"
      },
      "source": [
        "Notice that we have a **?** as the very first dimensional. The first dimension is ```batch_size```. The dimension of a tensor are:\n",
        "\n",
        "```(batch_size, num_channels, height, widtg  length)```\n",
        "\n",
        "## Contracting / Downward Path\n",
        "\n",
        "Here we will begin the construction of the downward path of network (the left side of the U-Net). The ```(height, width, length)``` of the input will get smaller as it moves down the path and the number of channels will increase. \n",
        "\n",
        "### Depth 0\n",
        "\n",
        "By *depth 0* here, we are referring to the depth of the first down-convolution in the U-Net. \n",
        "The number of filters is specified for each depth and for each layer within that depth. \n",
        "\n",
        "The formula to calulate the number of filter is: \n",
        "$$filters_i = 32 \\times (2^i)$$\n",
        "Where $i$ is the current depth. \n",
        "So at depth $i = 0$\n",
        "$$filters_0 = 32 \\times (2^0) = 32 $$\n",
        "\n",
        "### Layer 0\n",
        "There are two convolutional layers at each depth."
      ]
    },
    {
      "cell_type": "code",
      "metadata": {
        "id": "8CQKxW6YEv6o",
        "colab_type": "code",
        "colab": {}
      },
      "source": [
        "import tensorflow as tf\n",
        "import keras.backend.tensorflow_backend as tfback"
      ],
      "execution_count": 0,
      "outputs": []
    },
    {
      "cell_type": "code",
      "metadata": {
        "id": "UoHaifvbHORo",
        "colab_type": "code",
        "colab": {
          "base_uri": "https://localhost:8080/",
          "height": 51
        },
        "outputId": "023f6482-a028-4c21-f82d-39a5411d3fe0"
      },
      "source": [
        "print(\"tf.__version__ is\", tf.__version__)\n",
        "print(\"tf.keras.__version__ is:\", tf.keras.__version__)\n"
      ],
      "execution_count": 5,
      "outputs": [
        {
          "output_type": "stream",
          "text": [
            "tf.__version__ is 2.2.0-rc4\n",
            "tf.keras.__version__ is: 2.3.0-tf\n"
          ],
          "name": "stdout"
        }
      ]
    },
    {
      "cell_type": "code",
      "metadata": {
        "id": "CpqZo9xpHY_D",
        "colab_type": "code",
        "colab": {}
      },
      "source": [
        "def _get_available_gpus():\n",
        "    \"\"\"Get a list of available gpu devices (formatted as strings).\n",
        "\n",
        "    # Returns\n",
        "        A list of available GPU devices.\n",
        "    \"\"\"\n",
        "    #global _LOCAL_DEVICES\n",
        "    if tfback._LOCAL_DEVICES is None:\n",
        "        devices = tf.config.list_logical_devices()\n",
        "        tfback._LOCAL_DEVICES = [x.name for x in devices]\n",
        "    return [x for x in tfback._LOCAL_DEVICES if 'device:gpu' in x.lower()]"
      ],
      "execution_count": 0,
      "outputs": []
    },
    {
      "cell_type": "code",
      "metadata": {
        "id": "rEuvxVRMHad0",
        "colab_type": "code",
        "colab": {
          "base_uri": "https://localhost:8080/",
          "height": 34
        },
        "outputId": "699152b7-fa38-4193-eee9-f55ef93addd9"
      },
      "source": [
        "tfback._get_available_gpus = _get_available_gpus\n",
        "tfback._get_available_gpus()"
      ],
      "execution_count": 7,
      "outputs": [
        {
          "output_type": "execute_result",
          "data": {
            "text/plain": [
              "[]"
            ]
          },
          "metadata": {
            "tags": []
          },
          "execution_count": 7
        }
      ]
    },
    {
      "cell_type": "code",
      "metadata": {
        "id": "X1hzFDUs4DL1",
        "colab_type": "code",
        "outputId": "41ac0ba6-179a-4bdf-e2e3-9d440640add7",
        "colab": {
          "base_uri": "https://localhost:8080/",
          "height": 34
        }
      },
      "source": [
        "# Define the 1st Conv3D layer/tensor with 32 filters\n",
        "\n",
        "down_depth_0_layer_0 = Conv3D(filters=32, \n",
        "                              kernel_size=(3,3,3),\n",
        "                              padding='same',\n",
        "                              strides=(1, 1, 1))(input_layer)\n",
        "down_depth_0_layer_0"
      ],
      "execution_count": 8,
      "outputs": [
        {
          "output_type": "execute_result",
          "data": {
            "text/plain": [
              "<tf.Tensor 'conv3d_1/add:0' shape=(None, 32, 160, 160, 16) dtype=float32>"
            ]
          },
          "metadata": {
            "tags": []
          },
          "execution_count": 8
        }
      ]
    },
    {
      "cell_type": "code",
      "metadata": {
        "id": "yNcedrL4HzM-",
        "colab_type": "code",
        "colab": {
          "base_uri": "https://localhost:8080/",
          "height": 34
        },
        "outputId": "667c131f-cf8a-44d6-c8a0-03ece62eac47"
      },
      "source": [
        "# Add a relu activation to layer 0 of depth 0\n",
        "down_depth_0_layer_0 = Activation('relu')(down_depth_0_layer_0)\n",
        "down_depth_0_layer_0"
      ],
      "execution_count": 9,
      "outputs": [
        {
          "output_type": "execute_result",
          "data": {
            "text/plain": [
              "<tf.Tensor 'activation_1/Relu:0' shape=(None, 32, 160, 160, 16) dtype=float32>"
            ]
          },
          "metadata": {
            "tags": []
          },
          "execution_count": 9
        }
      ]
    },
    {
      "cell_type": "markdown",
      "metadata": {
        "id": "8mpntDy0IGcg",
        "colab_type": "text"
      },
      "source": [
        "### Depth 0 Layer 1\n",
        "\n",
        "For layer 1 of depth 0, the formula for calculating the number of filters is:\n",
        "\n",
        "$$ filters_{i} = 32 \\times (2^{i}) \\times 2 $$\n",
        "\n",
        "Where $i$ is the current depth.\n",
        "\n",
        "Notice the $\\times 2$ at the end of the formula is not there for layer 0.\n",
        "\n",
        "So at depth $i$ = 0 for layer 1 =\n",
        "$$filters_0 = 32 \\times(2^0)\\times 2 = 64$$"
      ]
    },
    {
      "cell_type": "code",
      "metadata": {
        "id": "dTcRp-3EIAGB",
        "colab_type": "code",
        "colab": {
          "base_uri": "https://localhost:8080/",
          "height": 34
        },
        "outputId": "bd3fd426-d140-4599-fa34-d8eca53d06c0"
      },
      "source": [
        "# Create a Conv layer with 64 filters and a relu activation function\n",
        "\n",
        "down_depth_0_layer_1 = Conv3D(filters=64,\n",
        "                              kernel_size=(3, 3, 3),\n",
        "                              padding='same',\n",
        "                              strides=(1, 1, 1))(down_depth_0_layer_0)\n",
        "                    \n",
        "# Add activation function\n",
        "down_depth_0_layer_1 = Activation('relu')(down_depth_0_layer_1)\n",
        "down_depth_0_layer_1"
      ],
      "execution_count": 10,
      "outputs": [
        {
          "output_type": "execute_result",
          "data": {
            "text/plain": [
              "<tf.Tensor 'activation_2/Relu:0' shape=(None, 64, 160, 160, 16) dtype=float32>"
            ]
          },
          "metadata": {
            "tags": []
          },
          "execution_count": 10
        }
      ]
    },
    {
      "cell_type": "markdown",
      "metadata": {
        "id": "stwn0LayK1Ka",
        "colab_type": "text"
      },
      "source": [
        "### MaxPooling\n",
        "In the U-Net architecture, as seen in the image, there is a MaxPooling operation after each down-convolution excluding the last convolution at the bottom of the U. So the number of maxpooling operations would be $depth - 1$. \n",
        "Our example here is of depth 2 so the number of maxpooling operations is $2-1=1$ \n"
      ]
    },
    {
      "cell_type": "code",
      "metadata": {
        "id": "VW4N83cPJl0C",
        "colab_type": "code",
        "colab": {
          "base_uri": "https://localhost:8080/",
          "height": 34
        },
        "outputId": "0543efd7-d08a-4d25-9b67-68f7693314ce"
      },
      "source": [
        "# Define a maxpooling layer\n",
        "\n",
        "down_depth_0_layer_pool = MaxPooling3D(pool_size=(2, 2, 2))(down_depth_0_layer_1)\n",
        "down_depth_0_layer_pool"
      ],
      "execution_count": 11,
      "outputs": [
        {
          "output_type": "execute_result",
          "data": {
            "text/plain": [
              "<tf.Tensor 'max_pooling3d_1/transpose_1:0' shape=(None, 64, 80, 80, 8) dtype=float32>"
            ]
          },
          "metadata": {
            "tags": []
          },
          "execution_count": 11
        }
      ]
    },
    {
      "cell_type": "markdown",
      "metadata": {
        "id": "BSu_dhc4NcWg",
        "colab_type": "text"
      },
      "source": [
        "### Depth 1 Layer 0\n",
        "\n",
        "To calculate the filters for depth 1 layer 0:\n",
        "\n",
        "$$filters_1 = 32 \\times(2^1) = 64$$"
      ]
    },
    {
      "cell_type": "code",
      "metadata": {
        "id": "4_e3x03zMPSu",
        "colab_type": "code",
        "colab": {
          "base_uri": "https://localhost:8080/",
          "height": 34
        },
        "outputId": "d04e6b1b-bb92-46a4-9fa0-3919b6abf093"
      },
      "source": [
        "# Create a Conv3D layer to the newtwork with a relu activation\n",
        "\n",
        "down_depth_1_layer_0 = Conv3D(filters=64,\n",
        "                              kernel_size=(3, 3, 3),\n",
        "                              padding='same',\n",
        "                              strides=(1, 1, 1))(down_depth_0_layer_pool)\n",
        "\n",
        "down_depth_1_layer_0 = Activation('relu')(down_depth_1_layer_0)\n",
        "down_depth_1_layer_0"
      ],
      "execution_count": 12,
      "outputs": [
        {
          "output_type": "execute_result",
          "data": {
            "text/plain": [
              "<tf.Tensor 'activation_3/Relu:0' shape=(None, 64, 80, 80, 8) dtype=float32>"
            ]
          },
          "metadata": {
            "tags": []
          },
          "execution_count": 12
        }
      ]
    },
    {
      "cell_type": "markdown",
      "metadata": {
        "id": "zgTJFe6ARwYE",
        "colab_type": "text"
      },
      "source": [
        "### Depth 1 Layer 1\n",
        "\n",
        "To calculate the filters for depth 1 layer 1:\n",
        "\n",
        "$$filters_1 = 32\\times(2^1)\\times2= 128$$"
      ]
    },
    {
      "cell_type": "code",
      "metadata": {
        "id": "EAi1hsiNRpnE",
        "colab_type": "code",
        "colab": {
          "base_uri": "https://localhost:8080/",
          "height": 34
        },
        "outputId": "cb1f7de1-7e4a-4658-ddc3-7a53e907a1c0"
      },
      "source": [
        "# Create a Conv3D layer with 128 filter to the network\n",
        "\n",
        "down_depth_1_layer_1 = Conv3D(filters=128,\n",
        "                              kernel_size=(3, 3, 3),\n",
        "                              padding='same',\n",
        "                              strides=(1, 1, 1))(down_depth_1_layer_0)\n",
        "\n",
        "down_depth_1_layer_1 = Activation('relu')(down_depth_1_layer_1)\n",
        "down_depth_1_layer_1"
      ],
      "execution_count": 13,
      "outputs": [
        {
          "output_type": "execute_result",
          "data": {
            "text/plain": [
              "<tf.Tensor 'activation_4/Relu:0' shape=(None, 128, 80, 80, 8) dtype=float32>"
            ]
          },
          "metadata": {
            "tags": []
          },
          "execution_count": 13
        }
      ]
    },
    {
      "cell_type": "markdown",
      "metadata": {
        "id": "HvCcRctOTKdf",
        "colab_type": "text"
      },
      "source": [
        "### MaxPooling\n",
        "\n",
        "We reached the bottom of the **U** of depth 2 so no maxpooling is required after this down-convolution. \n",
        "\n",
        "### Depth 0 Upsampling Layer 0\n",
        "\n",
        "We are now moving upward. For upsampling, we'll use a pool size of (2, 2, 2) as it is the default value in keras. \n",
        "The input to the first upsampling layer is the last layer of downsampling. In this example it is ```down_depth_1_layer_1```\n",
        "\n"
      ]
    },
    {
      "cell_type": "code",
      "metadata": {
        "id": "cmTs6K3UTFuR",
        "colab_type": "code",
        "colab": {
          "base_uri": "https://localhost:8080/",
          "height": 34
        },
        "outputId": "703c6409-67da-4b15-ba33-43a202d5d7d1"
      },
      "source": [
        "# Create the upsampling layer to the network\n",
        "\n",
        "up_depth_0_layer_0 = UpSampling3D(size=(2, 2, 2))(down_depth_1_layer_1)\n",
        "up_depth_0_layer_0"
      ],
      "execution_count": 14,
      "outputs": [
        {
          "output_type": "execute_result",
          "data": {
            "text/plain": [
              "<tf.Tensor 'up_sampling3d_1/concat_2:0' shape=(None, 128, 160, 160, 16) dtype=float32>"
            ]
          },
          "metadata": {
            "tags": []
          },
          "execution_count": 14
        }
      ]
    },
    {
      "cell_type": "markdown",
      "metadata": {
        "id": "cmnrnuQcUg75",
        "colab_type": "text"
      },
      "source": [
        "### Concatenation Operation\n",
        "\n",
        "We must now concatenate the layers that are both located at 0 depth. \n",
        "\n",
        "*   ```up_depth_0_layer``` is of shape (None, 128, 160, 160, 16)\n",
        "*   ```down_depth_layer_0_layer_1``` is of shape (None, 64, 160, 160, 16)\n",
        "*    Ensure that these layers have the same height, width and length\n",
        "*   If their shapes are the same, they can be concatenated along axis 1 (channel axis)\n",
        "\n",
        "The height, width, and length is (160, 160, 16) for both-- but let's double-check:\n",
        "\n"
      ]
    },
    {
      "cell_type": "code",
      "metadata": {
        "id": "FTgg_dASUaq_",
        "colab_type": "code",
        "colab": {
          "base_uri": "https://localhost:8080/",
          "height": 68
        },
        "outputId": "7164e85b-c7f2-4ed1-ad0c-ddb063aff90e"
      },
      "source": [
        "# Check shapes of layers to concatenate\n",
        "\n",
        "print(up_depth_0_layer_0)\n",
        "print(\"--------\")\n",
        "print(down_depth_0_layer_1)"
      ],
      "execution_count": 15,
      "outputs": [
        {
          "output_type": "stream",
          "text": [
            "Tensor(\"up_sampling3d_1/concat_2:0\", shape=(None, 128, 160, 160, 16), dtype=float32)\n",
            "--------\n",
            "Tensor(\"activation_2/Relu:0\", shape=(None, 64, 160, 160, 16), dtype=float32)\n"
          ],
          "name": "stdout"
        }
      ]
    },
    {
      "cell_type": "code",
      "metadata": {
        "id": "svJSyg4HWFRx",
        "colab_type": "code",
        "colab": {
          "base_uri": "https://localhost:8080/",
          "height": 34
        },
        "outputId": "2ced7107-b22f-47b6-c0f6-d3e8fd22d03c"
      },
      "source": [
        "# Add concatenation along axis 1\n",
        "\n",
        "up_depth_1_concat = concatenate([up_depth_0_layer_0,\n",
        "                                 down_depth_0_layer_1],\n",
        "                                axis=1)\n",
        "\n",
        "up_depth_1_concat"
      ],
      "execution_count": 16,
      "outputs": [
        {
          "output_type": "execute_result",
          "data": {
            "text/plain": [
              "<tf.Tensor 'concatenate_1/concat:0' shape=(None, 192, 160, 160, 16) dtype=float32>"
            ]
          },
          "metadata": {
            "tags": []
          },
          "execution_count": 16
        }
      ]
    },
    {
      "cell_type": "markdown",
      "metadata": {
        "id": "Zcv9Vy7vXBgJ",
        "colab_type": "text"
      },
      "source": [
        "The upsampling layer now has 192 channels: $128+64=192$ channels.\n",
        "\n",
        "### Up-convolution Layer 1\n",
        "\n",
        "The number of filters for this layer will be set for the number of channels in the down-convolution's layer 1 at the same depth of 0 (```down_depth_0_layer_1```)"
      ]
    },
    {
      "cell_type": "code",
      "metadata": {
        "id": "LuQjYw99W7l_",
        "colab_type": "code",
        "colab": {
          "base_uri": "https://localhost:8080/",
          "height": 34
        },
        "outputId": "10bde2c5-8602-4a14-998a-956b95cb0460"
      },
      "source": [
        "down_depth_0_layer_1"
      ],
      "execution_count": 17,
      "outputs": [
        {
          "output_type": "execute_result",
          "data": {
            "text/plain": [
              "<tf.Tensor 'activation_2/Relu:0' shape=(None, 64, 160, 160, 16) dtype=float32>"
            ]
          },
          "metadata": {
            "tags": []
          },
          "execution_count": 17
        }
      ]
    },
    {
      "cell_type": "code",
      "metadata": {
        "id": "z23EgRLIX16W",
        "colab_type": "code",
        "colab": {
          "base_uri": "https://localhost:8080/",
          "height": 34
        },
        "outputId": "fbb425ac-9d61-41fb-d523-a62e9dca2426"
      },
      "source": [
        "# print number of filters\n",
        "print(f\"Number of filters: {down_depth_0_layer_1._keras_shape[1]}\")"
      ],
      "execution_count": 18,
      "outputs": [
        {
          "output_type": "stream",
          "text": [
            "Number of filters: 64\n"
          ],
          "name": "stdout"
        }
      ]
    },
    {
      "cell_type": "code",
      "metadata": {
        "id": "iA2gmn9nYNoA",
        "colab_type": "code",
        "colab": {
          "base_uri": "https://localhost:8080/",
          "height": 34
        },
        "outputId": "d15a507f-525b-433e-f1b7-d1861cf7cd79"
      },
      "source": [
        "# Create a Conv3D up-convolution layer with 64 filters\n",
        "\n",
        "up_depth_1_layer_1 = Conv3D(filters=64,\n",
        "                            kernel_size=(3, 3, 3),\n",
        "                            padding='same',\n",
        "                            strides=(1, 1, 1))(up_depth_1_concat)\n",
        "\n",
        "up_depth_1_layer_1 = Activation('relu')(up_depth_1_layer_1)\n",
        "up_depth_1_layer_1"
      ],
      "execution_count": 19,
      "outputs": [
        {
          "output_type": "execute_result",
          "data": {
            "text/plain": [
              "<tf.Tensor 'activation_5/Relu:0' shape=(None, 64, 160, 160, 16) dtype=float32>"
            ]
          },
          "metadata": {
            "tags": []
          },
          "execution_count": 19
        }
      ]
    },
    {
      "cell_type": "markdown",
      "metadata": {
        "id": "b5QnoWSCZVci",
        "colab_type": "text"
      },
      "source": [
        "### Up-convolution Depth 0 Layer 2\n",
        "\n",
        "At layer 2 of depth 0  the up-convolution the next step is to add another up-convolution. The number of filters for this layer is the same as the number of filters in the down-convolution depth 0 layer 1. \n",
        "Let's confirm using same method as above:\n"
      ]
    },
    {
      "cell_type": "code",
      "metadata": {
        "id": "9MgXkLHuZRtM",
        "colab_type": "code",
        "colab": {
          "base_uri": "https://localhost:8080/",
          "height": 51
        },
        "outputId": "46e7637c-9f35-443c-8682-d11a39c466c2"
      },
      "source": [
        "print (down_depth_0_layer_1)\n",
        "print(f\"Number of filters: {down_depth_0_layer_1._keras_shape[1]}\")"
      ],
      "execution_count": 20,
      "outputs": [
        {
          "output_type": "stream",
          "text": [
            "Tensor(\"activation_2/Relu:0\", shape=(None, 64, 160, 160, 16), dtype=float32)\n",
            "Number of filters: 64\n"
          ],
          "name": "stdout"
        }
      ]
    },
    {
      "cell_type": "code",
      "metadata": {
        "id": "t0jh7d76aFuj",
        "colab_type": "code",
        "colab": {}
      },
      "source": [
        "# Create a Conv3D up-convolution layer with 64 filters\n",
        "\n",
        "up_depth_1_layer_2 = Conv3D(filters=64,\n",
        "                            kernel_size=(3, 3, 3),\n",
        "                            padding='same',\n",
        "                            strides=(1, 1, 1))(up_depth_1_layer_1)\n",
        "\n",
        "up_depth_1_layer_2 = Activation('relu')(up_depth_1_layer_2)"
      ],
      "execution_count": 0,
      "outputs": []
    },
    {
      "cell_type": "code",
      "metadata": {
        "id": "GRdW75q7anb7",
        "colab_type": "code",
        "colab": {
          "base_uri": "https://localhost:8080/",
          "height": 34
        },
        "outputId": "30ab1bcb-8797-4620-ed6c-0b5cbbca57e1"
      },
      "source": [
        "up_depth_1_layer_2"
      ],
      "execution_count": 22,
      "outputs": [
        {
          "output_type": "execute_result",
          "data": {
            "text/plain": [
              "<tf.Tensor 'activation_6/Relu:0' shape=(None, 64, 160, 160, 16) dtype=float32>"
            ]
          },
          "metadata": {
            "tags": []
          },
          "execution_count": 22
        }
      ]
    },
    {
      "cell_type": "markdown",
      "metadata": {
        "id": "gscVUgorazZH",
        "colab_type": "text"
      },
      "source": [
        "### Final Convolution\n",
        "\n",
        "For the last convolution layer, we will set the number of filters to be equal to the number of classes in your input data. \n",
        "We are trying to classify for 3 classes:\n",
        "1.   Edema\n",
        "2.   Non-enhancing tumor\n",
        "3.   Enhancing-tumor"
      ]
    },
    {
      "cell_type": "code",
      "metadata": {
        "id": "bxuCIErSasuQ",
        "colab_type": "code",
        "colab": {
          "base_uri": "https://localhost:8080/",
          "height": 34
        },
        "outputId": "86b07021-3d19-470c-fd16-ef27a0773ccd"
      },
      "source": [
        "# Add Final Conv3D layer with 3 filters to the network\n",
        "\n",
        "final_conv = Conv3D(filters=3,\n",
        "                   kernel_size=(1, 1, 1),\n",
        "                   padding='valid',\n",
        "                   strides=(1, 1, 1))(up_depth_1_layer_2)\n",
        "\n",
        "final_conv"
      ],
      "execution_count": 23,
      "outputs": [
        {
          "output_type": "execute_result",
          "data": {
            "text/plain": [
              "<tf.Tensor 'conv3d_7/add:0' shape=(None, 3, 160, 160, 16) dtype=float32>"
            ]
          },
          "metadata": {
            "tags": []
          },
          "execution_count": 23
        }
      ]
    },
    {
      "cell_type": "code",
      "metadata": {
        "id": "rKSR-7MMbnh0",
        "colab_type": "code",
        "colab": {
          "base_uri": "https://localhost:8080/",
          "height": 34
        },
        "outputId": "b36c91ea-e5f3-4182-81e1-7bad9356af77"
      },
      "source": [
        "# Add sigmoid activation to final conv\n",
        "\n",
        "final_activation = Activation('sigmoid')(final_conv)\n",
        "final_activation"
      ],
      "execution_count": 24,
      "outputs": [
        {
          "output_type": "execute_result",
          "data": {
            "text/plain": [
              "<tf.Tensor 'activation_7/Sigmoid:0' shape=(None, 3, 160, 160, 16) dtype=float32>"
            ]
          },
          "metadata": {
            "tags": []
          },
          "execution_count": 24
        }
      ]
    },
    {
      "cell_type": "markdown",
      "metadata": {
        "id": "Z0gnXewEcBU3",
        "colab_type": "text"
      },
      "source": [
        "### Create and Compile the Model\n",
        "\n",
        "Here we will be seeting the loss and metrics to pre-built options in keras. "
      ]
    },
    {
      "cell_type": "code",
      "metadata": {
        "id": "F0QO2EWBb9Ki",
        "colab_type": "code",
        "colab": {}
      },
      "source": [
        "# Create and compile model\n",
        "\n",
        "model = Model(inputs=input_layer, outputs=final_activation)\n",
        "model.compile(optimizer=Adam(lr=0.0001),\n",
        "              loss='categorical_crossentropy',\n",
        "              metrics=['categorical_accuracy']\n",
        "              )"
      ],
      "execution_count": 0,
      "outputs": []
    },
    {
      "cell_type": "code",
      "metadata": {
        "id": "8TwVVpoDcyav",
        "colab_type": "code",
        "colab": {
          "base_uri": "https://localhost:8080/",
          "height": 782
        },
        "outputId": "36423e9e-c58a-4832-c201-faa936e0f25d"
      },
      "source": [
        "# Print out model's summary\n",
        "\n",
        "model.summary()"
      ],
      "execution_count": 26,
      "outputs": [
        {
          "output_type": "stream",
          "text": [
            "Model: \"model_1\"\n",
            "__________________________________________________________________________________________________\n",
            "Layer (type)                    Output Shape         Param #     Connected to                     \n",
            "==================================================================================================\n",
            "input_1 (InputLayer)            (None, 4, 160, 160,  0                                            \n",
            "__________________________________________________________________________________________________\n",
            "conv3d_1 (Conv3D)               (None, 32, 160, 160, 3488        input_1[0][0]                    \n",
            "__________________________________________________________________________________________________\n",
            "activation_1 (Activation)       (None, 32, 160, 160, 0           conv3d_1[0][0]                   \n",
            "__________________________________________________________________________________________________\n",
            "conv3d_2 (Conv3D)               (None, 64, 160, 160, 55360       activation_1[0][0]               \n",
            "__________________________________________________________________________________________________\n",
            "activation_2 (Activation)       (None, 64, 160, 160, 0           conv3d_2[0][0]                   \n",
            "__________________________________________________________________________________________________\n",
            "max_pooling3d_1 (MaxPooling3D)  (None, 64, 80, 80, 8 0           activation_2[0][0]               \n",
            "__________________________________________________________________________________________________\n",
            "conv3d_3 (Conv3D)               (None, 64, 80, 80, 8 110656      max_pooling3d_1[0][0]            \n",
            "__________________________________________________________________________________________________\n",
            "activation_3 (Activation)       (None, 64, 80, 80, 8 0           conv3d_3[0][0]                   \n",
            "__________________________________________________________________________________________________\n",
            "conv3d_4 (Conv3D)               (None, 128, 80, 80,  221312      activation_3[0][0]               \n",
            "__________________________________________________________________________________________________\n",
            "activation_4 (Activation)       (None, 128, 80, 80,  0           conv3d_4[0][0]                   \n",
            "__________________________________________________________________________________________________\n",
            "up_sampling3d_1 (UpSampling3D)  (None, 128, 160, 160 0           activation_4[0][0]               \n",
            "__________________________________________________________________________________________________\n",
            "concatenate_1 (Concatenate)     (None, 192, 160, 160 0           up_sampling3d_1[0][0]            \n",
            "                                                                 activation_2[0][0]               \n",
            "__________________________________________________________________________________________________\n",
            "conv3d_5 (Conv3D)               (None, 64, 160, 160, 331840      concatenate_1[0][0]              \n",
            "__________________________________________________________________________________________________\n",
            "activation_5 (Activation)       (None, 64, 160, 160, 0           conv3d_5[0][0]                   \n",
            "__________________________________________________________________________________________________\n",
            "conv3d_6 (Conv3D)               (None, 64, 160, 160, 110656      activation_5[0][0]               \n",
            "__________________________________________________________________________________________________\n",
            "activation_6 (Activation)       (None, 64, 160, 160, 0           conv3d_6[0][0]                   \n",
            "__________________________________________________________________________________________________\n",
            "conv3d_7 (Conv3D)               (None, 3, 160, 160,  195         activation_6[0][0]               \n",
            "__________________________________________________________________________________________________\n",
            "activation_7 (Activation)       (None, 3, 160, 160,  0           conv3d_7[0][0]                   \n",
            "==================================================================================================\n",
            "Total params: 833,507\n",
            "Trainable params: 833,507\n",
            "Non-trainable params: 0\n",
            "__________________________________________________________________________________________________\n"
          ],
          "name": "stdout"
        }
      ]
    }
  ]
}