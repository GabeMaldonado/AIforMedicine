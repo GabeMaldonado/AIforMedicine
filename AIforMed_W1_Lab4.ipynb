{
  "nbformat": 4,
  "nbformat_minor": 0,
  "metadata": {
    "colab": {
      "name": "AIforMed_W1_Lab4.ipynb",
      "provenance": [],
      "collapsed_sections": [],
      "authorship_tag": "ABX9TyM4LnpETmdCBeDGSl9OD0qR",
      "include_colab_link": true
    },
    "kernelspec": {
      "name": "python3",
      "display_name": "Python 3"
    }
  },
  "cells": [
    {
      "cell_type": "markdown",
      "metadata": {
        "id": "view-in-github",
        "colab_type": "text"
      },
      "source": [
        "<a href=\"https://colab.research.google.com/github/GabeMaldonado/AIforMedicine/blob/master/AIforMed_W1_Lab4.ipynb\" target=\"_parent\"><img src=\"https://colab.research.google.com/assets/colab-badge.svg\" alt=\"Open In Colab\"/></a>"
      ]
    },
    {
      "cell_type": "markdown",
      "metadata": {
        "id": "6nliJpfea4ps",
        "colab_type": "text"
      },
      "source": [
        "# Notes on AI for Medicine -- Week 1 - Lab 4\n",
        "\n",
        "## Patient Overlap and Data Leakage\n",
        "\n",
        "We saw that having mulitple records of the same patient in the training, validation and/or test  datasets can affect our model's performance. In Machine Learning this issue is called ***Data Leakage***\n",
        "\n",
        "In this notebook we will identify and remove the patient overlap records from the training and validation datasets. \n"
      ]
    },
    {
      "cell_type": "code",
      "metadata": {
        "id": "JXksb9uFb6c_",
        "colab_type": "code",
        "colab": {
          "base_uri": "https://localhost:8080/",
          "height": 71
        },
        "outputId": "5412838b-e1ed-44ee-92ac-58c3a767a047"
      },
      "source": [
        "# Import required libraries\n",
        "\n",
        "import pandas as pd\n",
        "import numpy as np\n",
        "import matplotlib.pyplot as plt\n",
        "%matplotlib inline\n",
        "import os\n",
        "import seaborn as sns\n",
        "sns.set()\n"
      ],
      "execution_count": 1,
      "outputs": [
        {
          "output_type": "stream",
          "text": [
            "/usr/local/lib/python3.6/dist-packages/statsmodels/tools/_testing.py:19: FutureWarning: pandas.util.testing is deprecated. Use the functions in the public API at pandas.testing instead.\n",
            "  import pandas.util.testing as tm\n"
          ],
          "name": "stderr"
        }
      ]
    },
    {
      "cell_type": "code",
      "metadata": {
        "id": "HdDatpWacNsK",
        "colab_type": "code",
        "colab": {
          "base_uri": "https://localhost:8080/",
          "height": 258
        },
        "outputId": "d1a267a4-ea21-47d2-f01d-528e839792c4"
      },
      "source": [
        "# Load training .csv file\n",
        "\n",
        "train_df = pd.read_csv(\"/content/train-small.csv\")\n",
        "\n",
        "# Show number of columns and rows in the df (shape)\n",
        "\n",
        "print(f\"The number of rows: {train_df.shape[0]} and number of columns: {train_df.shape[1]}\\n\")\n",
        "\n",
        "# print first 5 rows (head)\n",
        "\n",
        "train_df.head()"
      ],
      "execution_count": 4,
      "outputs": [
        {
          "output_type": "stream",
          "text": [
            "The number of rows: 1000 and number of columns: 16\n",
            "\n"
          ],
          "name": "stdout"
        },
        {
          "output_type": "execute_result",
          "data": {
            "text/html": [
              "<div>\n",
              "<style scoped>\n",
              "    .dataframe tbody tr th:only-of-type {\n",
              "        vertical-align: middle;\n",
              "    }\n",
              "\n",
              "    .dataframe tbody tr th {\n",
              "        vertical-align: top;\n",
              "    }\n",
              "\n",
              "    .dataframe thead th {\n",
              "        text-align: right;\n",
              "    }\n",
              "</style>\n",
              "<table border=\"1\" class=\"dataframe\">\n",
              "  <thead>\n",
              "    <tr style=\"text-align: right;\">\n",
              "      <th></th>\n",
              "      <th>Image</th>\n",
              "      <th>Atelectasis</th>\n",
              "      <th>Cardiomegaly</th>\n",
              "      <th>Consolidation</th>\n",
              "      <th>Edema</th>\n",
              "      <th>Effusion</th>\n",
              "      <th>Emphysema</th>\n",
              "      <th>Fibrosis</th>\n",
              "      <th>Hernia</th>\n",
              "      <th>Infiltration</th>\n",
              "      <th>Mass</th>\n",
              "      <th>Nodule</th>\n",
              "      <th>PatientId</th>\n",
              "      <th>Pleural_Thickening</th>\n",
              "      <th>Pneumonia</th>\n",
              "      <th>Pneumothorax</th>\n",
              "    </tr>\n",
              "  </thead>\n",
              "  <tbody>\n",
              "    <tr>\n",
              "      <th>0</th>\n",
              "      <td>00008270_015.png</td>\n",
              "      <td>0</td>\n",
              "      <td>0</td>\n",
              "      <td>0</td>\n",
              "      <td>0</td>\n",
              "      <td>0</td>\n",
              "      <td>0</td>\n",
              "      <td>0</td>\n",
              "      <td>0</td>\n",
              "      <td>0</td>\n",
              "      <td>0</td>\n",
              "      <td>0</td>\n",
              "      <td>8270</td>\n",
              "      <td>0</td>\n",
              "      <td>0</td>\n",
              "      <td>0</td>\n",
              "    </tr>\n",
              "    <tr>\n",
              "      <th>1</th>\n",
              "      <td>00029855_001.png</td>\n",
              "      <td>1</td>\n",
              "      <td>0</td>\n",
              "      <td>0</td>\n",
              "      <td>0</td>\n",
              "      <td>1</td>\n",
              "      <td>0</td>\n",
              "      <td>0</td>\n",
              "      <td>0</td>\n",
              "      <td>1</td>\n",
              "      <td>0</td>\n",
              "      <td>0</td>\n",
              "      <td>29855</td>\n",
              "      <td>0</td>\n",
              "      <td>0</td>\n",
              "      <td>0</td>\n",
              "    </tr>\n",
              "    <tr>\n",
              "      <th>2</th>\n",
              "      <td>00001297_000.png</td>\n",
              "      <td>0</td>\n",
              "      <td>0</td>\n",
              "      <td>0</td>\n",
              "      <td>0</td>\n",
              "      <td>0</td>\n",
              "      <td>0</td>\n",
              "      <td>0</td>\n",
              "      <td>0</td>\n",
              "      <td>0</td>\n",
              "      <td>0</td>\n",
              "      <td>0</td>\n",
              "      <td>1297</td>\n",
              "      <td>1</td>\n",
              "      <td>0</td>\n",
              "      <td>0</td>\n",
              "    </tr>\n",
              "    <tr>\n",
              "      <th>3</th>\n",
              "      <td>00012359_002.png</td>\n",
              "      <td>0</td>\n",
              "      <td>0</td>\n",
              "      <td>0</td>\n",
              "      <td>0</td>\n",
              "      <td>0</td>\n",
              "      <td>0</td>\n",
              "      <td>0</td>\n",
              "      <td>0</td>\n",
              "      <td>0</td>\n",
              "      <td>0</td>\n",
              "      <td>0</td>\n",
              "      <td>12359</td>\n",
              "      <td>0</td>\n",
              "      <td>0</td>\n",
              "      <td>0</td>\n",
              "    </tr>\n",
              "    <tr>\n",
              "      <th>4</th>\n",
              "      <td>00017951_001.png</td>\n",
              "      <td>0</td>\n",
              "      <td>0</td>\n",
              "      <td>0</td>\n",
              "      <td>0</td>\n",
              "      <td>0</td>\n",
              "      <td>0</td>\n",
              "      <td>0</td>\n",
              "      <td>0</td>\n",
              "      <td>1</td>\n",
              "      <td>0</td>\n",
              "      <td>0</td>\n",
              "      <td>17951</td>\n",
              "      <td>0</td>\n",
              "      <td>0</td>\n",
              "      <td>0</td>\n",
              "    </tr>\n",
              "  </tbody>\n",
              "</table>\n",
              "</div>"
            ],
            "text/plain": [
              "              Image  Atelectasis  ...  Pneumonia  Pneumothorax\n",
              "0  00008270_015.png            0  ...          0             0\n",
              "1  00029855_001.png            1  ...          0             0\n",
              "2  00001297_000.png            0  ...          0             0\n",
              "3  00012359_002.png            0  ...          0             0\n",
              "4  00017951_001.png            0  ...          0             0\n",
              "\n",
              "[5 rows x 16 columns]"
            ]
          },
          "metadata": {
            "tags": []
          },
          "execution_count": 4
        }
      ]
    },
    {
      "cell_type": "code",
      "metadata": {
        "id": "uiyCHJHadE-T",
        "colab_type": "code",
        "colab": {
          "base_uri": "https://localhost:8080/",
          "height": 258
        },
        "outputId": "39b2bb29-c6f0-4d2b-b595-06d9e0b9ab23"
      },
      "source": [
        "# Load validation .csv file\n",
        "\n",
        "valid_df = pd.read_csv(\"/content/valid-small.csv\")\n",
        "\n",
        "# Show number of rows and columns\n",
        "\n",
        "print(f\"Number of rows: {valid_df.shape[0]} and number of columns: {valid_df.shape[1]}. \\n\")\n",
        "\n",
        "# print df's head\n",
        "\n",
        "valid_df.head()"
      ],
      "execution_count": 5,
      "outputs": [
        {
          "output_type": "stream",
          "text": [
            "Number of rows: 109 and number of columns: 16. \n",
            "\n"
          ],
          "name": "stdout"
        },
        {
          "output_type": "execute_result",
          "data": {
            "text/html": [
              "<div>\n",
              "<style scoped>\n",
              "    .dataframe tbody tr th:only-of-type {\n",
              "        vertical-align: middle;\n",
              "    }\n",
              "\n",
              "    .dataframe tbody tr th {\n",
              "        vertical-align: top;\n",
              "    }\n",
              "\n",
              "    .dataframe thead th {\n",
              "        text-align: right;\n",
              "    }\n",
              "</style>\n",
              "<table border=\"1\" class=\"dataframe\">\n",
              "  <thead>\n",
              "    <tr style=\"text-align: right;\">\n",
              "      <th></th>\n",
              "      <th>Image</th>\n",
              "      <th>Atelectasis</th>\n",
              "      <th>Cardiomegaly</th>\n",
              "      <th>Consolidation</th>\n",
              "      <th>Edema</th>\n",
              "      <th>Effusion</th>\n",
              "      <th>Emphysema</th>\n",
              "      <th>Fibrosis</th>\n",
              "      <th>Hernia</th>\n",
              "      <th>Infiltration</th>\n",
              "      <th>Mass</th>\n",
              "      <th>Nodule</th>\n",
              "      <th>PatientId</th>\n",
              "      <th>Pleural_Thickening</th>\n",
              "      <th>Pneumonia</th>\n",
              "      <th>Pneumothorax</th>\n",
              "    </tr>\n",
              "  </thead>\n",
              "  <tbody>\n",
              "    <tr>\n",
              "      <th>0</th>\n",
              "      <td>00027623_007.png</td>\n",
              "      <td>0</td>\n",
              "      <td>0</td>\n",
              "      <td>0</td>\n",
              "      <td>1</td>\n",
              "      <td>1</td>\n",
              "      <td>0</td>\n",
              "      <td>0</td>\n",
              "      <td>0</td>\n",
              "      <td>0</td>\n",
              "      <td>0</td>\n",
              "      <td>0</td>\n",
              "      <td>27623</td>\n",
              "      <td>0</td>\n",
              "      <td>0</td>\n",
              "      <td>0</td>\n",
              "    </tr>\n",
              "    <tr>\n",
              "      <th>1</th>\n",
              "      <td>00028214_000.png</td>\n",
              "      <td>0</td>\n",
              "      <td>0</td>\n",
              "      <td>0</td>\n",
              "      <td>0</td>\n",
              "      <td>0</td>\n",
              "      <td>0</td>\n",
              "      <td>0</td>\n",
              "      <td>0</td>\n",
              "      <td>0</td>\n",
              "      <td>0</td>\n",
              "      <td>0</td>\n",
              "      <td>28214</td>\n",
              "      <td>0</td>\n",
              "      <td>0</td>\n",
              "      <td>0</td>\n",
              "    </tr>\n",
              "    <tr>\n",
              "      <th>2</th>\n",
              "      <td>00022764_014.png</td>\n",
              "      <td>0</td>\n",
              "      <td>0</td>\n",
              "      <td>0</td>\n",
              "      <td>0</td>\n",
              "      <td>0</td>\n",
              "      <td>0</td>\n",
              "      <td>0</td>\n",
              "      <td>0</td>\n",
              "      <td>0</td>\n",
              "      <td>0</td>\n",
              "      <td>0</td>\n",
              "      <td>22764</td>\n",
              "      <td>0</td>\n",
              "      <td>0</td>\n",
              "      <td>0</td>\n",
              "    </tr>\n",
              "    <tr>\n",
              "      <th>3</th>\n",
              "      <td>00020649_001.png</td>\n",
              "      <td>1</td>\n",
              "      <td>0</td>\n",
              "      <td>0</td>\n",
              "      <td>0</td>\n",
              "      <td>1</td>\n",
              "      <td>0</td>\n",
              "      <td>0</td>\n",
              "      <td>0</td>\n",
              "      <td>0</td>\n",
              "      <td>0</td>\n",
              "      <td>0</td>\n",
              "      <td>20649</td>\n",
              "      <td>0</td>\n",
              "      <td>0</td>\n",
              "      <td>0</td>\n",
              "    </tr>\n",
              "    <tr>\n",
              "      <th>4</th>\n",
              "      <td>00022283_023.png</td>\n",
              "      <td>0</td>\n",
              "      <td>0</td>\n",
              "      <td>0</td>\n",
              "      <td>0</td>\n",
              "      <td>0</td>\n",
              "      <td>0</td>\n",
              "      <td>0</td>\n",
              "      <td>0</td>\n",
              "      <td>0</td>\n",
              "      <td>0</td>\n",
              "      <td>0</td>\n",
              "      <td>22283</td>\n",
              "      <td>0</td>\n",
              "      <td>0</td>\n",
              "      <td>0</td>\n",
              "    </tr>\n",
              "  </tbody>\n",
              "</table>\n",
              "</div>"
            ],
            "text/plain": [
              "              Image  Atelectasis  ...  Pneumonia  Pneumothorax\n",
              "0  00027623_007.png            0  ...          0             0\n",
              "1  00028214_000.png            0  ...          0             0\n",
              "2  00022764_014.png            0  ...          0             0\n",
              "3  00020649_001.png            1  ...          0             0\n",
              "4  00022283_023.png            0  ...          0             0\n",
              "\n",
              "[5 rows x 16 columns]"
            ]
          },
          "metadata": {
            "tags": []
          },
          "execution_count": 5
        }
      ]
    },
    {
      "cell_type": "markdown",
      "metadata": {
        "id": "D-c6R-1EeAc6",
        "colab_type": "text"
      },
      "source": [
        "## Extract and compare the PatientIDs from both datasets. \n",
        "\n",
        "To do: \n",
        "\n",
        "*   Extract the PatientID from train_df and valid_df\n",
        "*   Convert these arrays into ```set()``` datatypes\n",
        "*   Identify patient overlap where the two dfs intersect"
      ]
    },
    {
      "cell_type": "code",
      "metadata": {
        "id": "8yRHZhhYd5hp",
        "colab_type": "code",
        "colab": {}
      },
      "source": [
        "# Extract PatientIDs from train_df\n",
        "\n",
        "ids_train = train_df.PatientId.values\n",
        "\n",
        "# Extract PatientIDs from valid_df\n",
        "\n",
        "ids_valid = valid_df.PatientId.values"
      ],
      "execution_count": 0,
      "outputs": []
    },
    {
      "cell_type": "code",
      "metadata": {
        "id": "_9KB30hxfHTd",
        "colab_type": "code",
        "colab": {
          "base_uri": "https://localhost:8080/",
          "height": 68
        },
        "outputId": "bf3c9fe9-4990-46d4-d8d3-54b4185b3861"
      },
      "source": [
        "# Create a set() data structure for the two PatientID's\n",
        "\n",
        "ids_train_set = set(ids_train)\n",
        "\n",
        "# Print number of unique IDs for train_df\n",
        "\n",
        "print(f\"The number of unique IDs in the train_df are: {len(ids_train_set)}. \\n\")\n",
        "\n",
        "ids_valid_set = set(ids_valid)\n",
        "\n",
        "# Print number of unique IDs for valid_df\n",
        "\n",
        "print(f\"The number of unique IDs in the valid_df are: {len(ids_valid_set)}\")"
      ],
      "execution_count": 9,
      "outputs": [
        {
          "output_type": "stream",
          "text": [
            "The number of unique IDs in the train_df are: 928. \n",
            "\n",
            "The number of unique IDs in the valid_df are: 97\n"
          ],
          "name": "stdout"
        }
      ]
    },
    {
      "cell_type": "code",
      "metadata": {
        "id": "UkmkR0G2i_8O",
        "colab_type": "code",
        "colab": {
          "base_uri": "https://localhost:8080/",
          "height": 68
        },
        "outputId": "01d77c28-f52a-4609-a34f-c30d9cb0b687"
      },
      "source": [
        "# Identify the overlapping records by looking at the intersection of both sets\n",
        "\n",
        "patient_overlap = list(ids_train_set.intersection(ids_valid_set))\n",
        "\n",
        "# Get number of overlapping records\n",
        "\n",
        "n_overlap = len(patient_overlap)\n",
        "\n",
        "print(f\"The number of overlapping records are: {n_overlap}\\n\")\n",
        "print(f\"These PatientIDs are present in both sets: {patient_overlap}\")"
      ],
      "execution_count": 10,
      "outputs": [
        {
          "output_type": "stream",
          "text": [
            "The number of overlapping records are: 11\n",
            "\n",
            "These PatientIDs are present in both sets: [20290, 27618, 9925, 10888, 22764, 19981, 18253, 4461, 28208, 8760, 7482]\n"
          ],
          "name": "stdout"
        }
      ]
    },
    {
      "cell_type": "markdown",
      "metadata": {
        "id": "pQOA7xFjkwTg",
        "colab_type": "text"
      },
      "source": [
        "Alright! Now that we identify how many and whoch records are present in both, the training and validation sets, we can proceed to:\n",
        "\n",
        "*   Find the indices of the overlapping IDs and store them in a list\n",
        "*   Drop the overlapping records from either set"
      ]
    },
    {
      "cell_type": "code",
      "metadata": {
        "id": "rrrw4ytiko_S",
        "colab_type": "code",
        "colab": {
          "base_uri": "https://localhost:8080/",
          "height": 119
        },
        "outputId": "d905c177-a09f-4dda-861e-1133ff55a0bd"
      },
      "source": [
        "# Create empty lists\n",
        "\n",
        "train_overlap_idx = []\n",
        "valid_overlap_idx = []\n",
        "\n",
        "# Find indices of overlapping records\n",
        "\n",
        "for idx in range(n_overlap): # We need to find 11 indices\n",
        "  train_overlap_idx.extend(train_df.index[train_df['PatientId'] == patient_overlap[idx]].tolist())\n",
        "  valid_overlap_idx.extend(valid_df.index[valid_df['PatientId'] == patient_overlap[idx]].tolist())\n",
        "\n",
        "# print info about indices\n",
        "\n",
        "print(f\"Indices of the overlapping PatientIDs in the train_df: \\n{train_overlap_idx}\\n\")\n",
        "print(f\"Indices of the overlapping PatientIDs in the valid_df: \\n{valid_overlap_idx}\\n\")\n",
        "\n",
        "\n",
        "\n",
        "\n"
      ],
      "execution_count": 13,
      "outputs": [
        {
          "output_type": "stream",
          "text": [
            "Indices of the overlapping PatientIDs in the train_df: \n",
            "[306, 186, 797, 98, 408, 917, 327, 913, 10, 51, 276]\n",
            "\n",
            "Indices of the overlapping PatientIDs in the valid_df: \n",
            "[104, 88, 65, 13, 2, 41, 56, 70, 26, 75, 20, 52, 55]\n",
            "\n"
          ],
          "name": "stdout"
        }
      ]
    },
    {
      "cell_type": "code",
      "metadata": {
        "id": "b-I3Xel5n8lm",
        "colab_type": "code",
        "colab": {}
      },
      "source": [
        "# Drop overlapping rows/records from either one of the sets, validation in this case\n",
        "\n",
        "valid_df.drop(valid_overlap_idx, inplace = True)"
      ],
      "execution_count": 0,
      "outputs": []
    },
    {
      "cell_type": "markdown",
      "metadata": {
        "id": "0QHSzDjKo3bc",
        "colab_type": "text"
      },
      "source": [
        "We can ensure that things were done correctly by re-running the PatientID comparison between the two datasets. If everything executed above went well:\n",
        "*  We should now see less records in the valid_df\n",
        "*  We should see 0 overlaps as both dfs no longer intersect each other"
      ]
    },
    {
      "cell_type": "code",
      "metadata": {
        "id": "lgrCXtnzozWw",
        "colab_type": "code",
        "colab": {
          "base_uri": "https://localhost:8080/",
          "height": 34
        },
        "outputId": "5bd26462-3ba3-4e22-afe7-1af9497dbe3e"
      },
      "source": [
        "# Extract PatientsIDs from the valid_df\n",
        "\n",
        "ids_valid_check = valid_df.PatientId.values\n",
        "\n",
        "# Create a set datatype \n",
        "\n",
        "ids_valid_check_set = set(ids_valid_check)\n",
        "\n",
        "# print number of unique ID's\n",
        "\n",
        "print(f\"Number of unique PatientIds in valid_df: {len(ids_valid_check_set)}\")"
      ],
      "execution_count": 15,
      "outputs": [
        {
          "output_type": "stream",
          "text": [
            "Number of unique PatientIds in valid_df: 86\n"
          ],
          "name": "stdout"
        }
      ]
    },
    {
      "cell_type": "code",
      "metadata": {
        "id": "prF6FwJ0qQ7I",
        "colab_type": "code",
        "colab": {
          "base_uri": "https://localhost:8080/",
          "height": 34
        },
        "outputId": "a6a2b1e5-7fbd-4ec4-bf50-54756bd5b0da"
      },
      "source": [
        "# Identify overlap by comparing the two dfs\n",
        "\n",
        "patient_overlap_check = list(ids_train_set.intersection(ids_valid_check_set))\n",
        "\n",
        "# Get number of overlapped records\n",
        "\n",
        "n_overlap_check = len(patient_overlap_check)\n",
        "\n",
        "print(f\"The number of overlapped PatientIDs in both datasets are: {n_overlap_check}\")"
      ],
      "execution_count": 16,
      "outputs": [
        {
          "output_type": "stream",
          "text": [
            "The number of overlapped PatientIDs in both datasets are: 0\n"
          ],
          "name": "stdout"
        }
      ]
    }
  ]
}