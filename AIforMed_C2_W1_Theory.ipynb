{
  "nbformat": 4,
  "nbformat_minor": 0,
  "metadata": {
    "colab": {
      "name": "AIforMed_C2_W1_Theory.ipynb",
      "provenance": [],
      "collapsed_sections": [],
      "authorship_tag": "ABX9TyOVWr4BxZizJfhTRi2TbHBu",
      "include_colab_link": true
    },
    "kernelspec": {
      "name": "python3",
      "display_name": "Python 3"
    }
  },
  "cells": [
    {
      "cell_type": "markdown",
      "metadata": {
        "id": "view-in-github",
        "colab_type": "text"
      },
      "source": [
        "<a href=\"https://colab.research.google.com/github/GabeMaldonado/AIforMedicine/blob/master/AIforMed_C2_W1_Theory.ipynb\" target=\"_parent\"><img src=\"https://colab.research.google.com/assets/colab-badge.svg\" alt=\"Open In Colab\"/></a>"
      ]
    },
    {
      "cell_type": "markdown",
      "metadata": {
        "id": "rlLe_5MJb3Ys",
        "colab_type": "text"
      },
      "source": [
        "# Notes on AI for Medicine Specialization, Coursera\n",
        "## Course II -- AI for Medical Prognosis\n",
        "\n",
        "Prognosis is a branch of medicine that specializes in predicting the future health of patients. For example, given a patient's labs results-- can we estimate the risks of having a heart attack over the next five or ten years. \n",
        "Machine Learning is a powerful tool for prognosis and can provide a temendous boost to this branch of medicine by using many different types of medical data to make accurate predictions about a patient's future health. \n",
        "Making prognosis is a clinically useful task for a variety of reasons. \n",
        "1.   **Risk of Illness** It is useful for informing patients the risk of develping an illness. There are blood tests that are used to estimate the risk of developing breasts and ovarian cancer.\n",
        "2.   **SUrvival with Illness** It is also used to inform patients how long they can expect to survive with a certain illness. Cancer staging gives an estimate of survival time of a patient with a particular type of cancer. \n",
        "\n",
        "Prognosis is also used for guiding treatment. In clinical practice, the prediction of a 10-year risk of heart attack is used to determine whether that patient should get drugs to reduce that risk. Another example is the **6-month mortality risk**. This is used for patients with terminal conditions that have become advanced and uncurable and it is used to determine who should recieve end-of-life care. \n",
        "\n",
        "### Prognosis -- Inputs and Outputs\n",
        "\n",
        "Prognostic models can be thought of as a system that takes in a profile of a patient as an input and outputs s **risk score** for that patient. The patient profile can include:\n",
        "*   Clinical History which includes major illness, previous medical procedures. \n",
        "*   Physical Examinations -- includes vital signs such as temperature and blodd pressure. \n",
        "*   Labs and imaging -- inlcudes blood work and CT scans, etc. \n",
        "The prognostic model can take one or more of these pieces of information and produce the patient's risk score which can be an arbitrary number or a probability. \n",
        "\n",
        "### Calculating $CHA_{2}DS_{2}-VASc$ (Chads vasc) Score\n",
        "\n",
        "Here we will calculate the risk factor for patients with **atrial fibrilation**. \n",
        "Atrial Fibrilation is a common abnormal heart rhythm that puts the patient at the risk of stroke. (Stroke is when the blood flow to a region of the brain is cut off). The CHADS VASC model is used to calculate the one year risk of stroke for patients with AF. The name comes from the following conditions and the numbers in the columns represent the coefficients for each condition and the patient score for each condition (1 = yes, 0 = no). The last column is the coefficient * value and these products get added to obtain the risk factor.\n",
        "\n",
        "<pre>\n",
        "*   C - Congestive Heart Failure         1     0     0\n",
        "*   H - Hypertension                     1     1     1\n",
        "*   A2 - Age 75 years or older           2     0     0\n",
        "*   D - Diabetis mellitus                1     1     1\n",
        "*   S2 - Stroke, TIA or TE               2     0     0\n",
        "*   V - Vascular disease                 1     0     0\n",
        "*   A - Age 65 to 74                     1     1     1\n",
        "*   Sc - Sex category (female)           1     0     0\n",
        "*                                                   ---\n",
        "*                                                    3\n",
        "</pre>\n",
        "\n",
        "### Calculating the Model for End-stage liver disease (MELD) Score\n",
        "\n",
        "This score gives an  estimate of the 3-month mortality for patients older than 12 who are on liver transplant waiting lists. This score is a factor in determining how quickly a patient can get a liver transplant. \n",
        "\n",
        "Let's calculat the score for a 50 year old woman with the following lab results:\n",
        "*   Creatinine = 1.0 mg/dL\n",
        "*   Bilirubin total = 2.0 mg/dL\n",
        "*   INR = 1.1\n",
        "\n",
        "<pre>\n",
        "                     Coeff    Value        Coeff * Value\n",
        "ln(Creatinine)       0.957    ln(1.0)            0\n",
        "ln(Bilirubin total)  0.378    ln(2.0)           0.26 \n",
        "ln(INR)              1.120    ln(1.1)           0.11\n",
        "Intercept            0.643       1              0.643\n",
        "-----------------------------------------------------------\n",
        "Score * 10                                 1.01x10 = 10   \n",
        "</pre>\n",
        "\n",
        "This score of 10 is not directly telling us the probability of survival at 3 months but it is informative when comparing it to MELD score of other patients. \n",
        "\n",
        "\n",
        "\n",
        "\n"
      ]
    },
    {
      "cell_type": "markdown",
      "metadata": {
        "id": "g9qvrZaqvyAi",
        "colab_type": "text"
      },
      "source": [
        "[Check out this notebook to see how to calculate risk scores in python ](https://github.com/GabeMaldonado/AIforMedicine/blob/master/AIforMed_C2_W1_Lab2.ipynb)"
      ]
    }
  ]
}