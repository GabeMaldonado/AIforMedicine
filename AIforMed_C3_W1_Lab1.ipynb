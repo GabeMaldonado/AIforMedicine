{
  "nbformat": 4,
  "nbformat_minor": 0,
  "metadata": {
    "colab": {
      "name": "AIforMed_C3_W1_Lab1.ipynb",
      "provenance": [],
      "collapsed_sections": [],
      "toc_visible": true,
      "authorship_tag": "ABX9TyMzXjS0Fdx/+EdF8TELk/O8",
      "include_colab_link": true
    },
    "kernelspec": {
      "name": "python3",
      "display_name": "Python 3"
    }
  },
  "cells": [
    {
      "cell_type": "markdown",
      "metadata": {
        "id": "view-in-github",
        "colab_type": "text"
      },
      "source": [
        "<a href=\"https://colab.research.google.com/github/GabeMaldonado/AIforMedicine/blob/master/AIforMed_C3_W1_Lab1.ipynb\" target=\"_parent\"><img src=\"https://colab.research.google.com/assets/colab-badge.svg\" alt=\"Open In Colab\"/></a>"
      ]
    },
    {
      "cell_type": "markdown",
      "metadata": {
        "id": "V7XgXCJ6q6XV",
        "colab_type": "text"
      },
      "source": [
        "# AI for Medicine Course 3 Week 1 Lab 1\n",
        "## Pandas for a Medical Dataset\n",
        "\n",
        "In this lab we will be using `pandas` to manipulate medical data. "
      ]
    },
    {
      "cell_type": "code",
      "metadata": {
        "id": "O_Fdo8wmsXsP",
        "colab_type": "code",
        "colab": {}
      },
      "source": [
        "# import pandas\n",
        "\n",
        "import pandas as pd"
      ],
      "execution_count": 0,
      "outputs": []
    },
    {
      "cell_type": "code",
      "metadata": {
        "id": "jGFdRBb9sapG",
        "colab_type": "code",
        "colab": {
          "base_uri": "https://localhost:8080/",
          "height": 204
        },
        "outputId": "f06f8101-63e4-47ba-d2dd-e6c91a109cf5"
      },
      "source": [
        "# Load data\n",
        "\n",
        "data = pd.read_csv('/content/dummy_data.csv', index_col=0)\n",
        "data.head()"
      ],
      "execution_count": 2,
      "outputs": [
        {
          "output_type": "execute_result",
          "data": {
            "text/html": [
              "<div>\n",
              "<style scoped>\n",
              "    .dataframe tbody tr th:only-of-type {\n",
              "        vertical-align: middle;\n",
              "    }\n",
              "\n",
              "    .dataframe tbody tr th {\n",
              "        vertical-align: top;\n",
              "    }\n",
              "\n",
              "    .dataframe thead th {\n",
              "        text-align: right;\n",
              "    }\n",
              "</style>\n",
              "<table border=\"1\" class=\"dataframe\">\n",
              "  <thead>\n",
              "    <tr style=\"text-align: right;\">\n",
              "      <th></th>\n",
              "      <th>sex</th>\n",
              "      <th>age</th>\n",
              "      <th>obstruct</th>\n",
              "      <th>outcome</th>\n",
              "      <th>TRTMT</th>\n",
              "    </tr>\n",
              "  </thead>\n",
              "  <tbody>\n",
              "    <tr>\n",
              "      <th>1</th>\n",
              "      <td>0</td>\n",
              "      <td>57</td>\n",
              "      <td>0</td>\n",
              "      <td>1</td>\n",
              "      <td>True</td>\n",
              "    </tr>\n",
              "    <tr>\n",
              "      <th>2</th>\n",
              "      <td>1</td>\n",
              "      <td>68</td>\n",
              "      <td>0</td>\n",
              "      <td>0</td>\n",
              "      <td>False</td>\n",
              "    </tr>\n",
              "    <tr>\n",
              "      <th>3</th>\n",
              "      <td>0</td>\n",
              "      <td>72</td>\n",
              "      <td>0</td>\n",
              "      <td>0</td>\n",
              "      <td>True</td>\n",
              "    </tr>\n",
              "    <tr>\n",
              "      <th>4</th>\n",
              "      <td>0</td>\n",
              "      <td>66</td>\n",
              "      <td>1</td>\n",
              "      <td>1</td>\n",
              "      <td>True</td>\n",
              "    </tr>\n",
              "    <tr>\n",
              "      <th>5</th>\n",
              "      <td>1</td>\n",
              "      <td>69</td>\n",
              "      <td>0</td>\n",
              "      <td>1</td>\n",
              "      <td>False</td>\n",
              "    </tr>\n",
              "  </tbody>\n",
              "</table>\n",
              "</div>"
            ],
            "text/plain": [
              "   sex  age  obstruct  outcome  TRTMT\n",
              "1    0   57         0        1   True\n",
              "2    1   68         0        0  False\n",
              "3    0   72         0        0   True\n",
              "4    0   66         1        1   True\n",
              "5    1   69         0        1  False"
            ]
          },
          "metadata": {
            "tags": []
          },
          "execution_count": 2
        }
      ]
    },
    {
      "cell_type": "code",
      "metadata": {
        "id": "9bEGPaI8spQj",
        "colab_type": "code",
        "colab": {
          "base_uri": "https://localhost:8080/",
          "height": 34
        },
        "outputId": "b4e6335e-d7f5-4802-f3b6-780dcaa1ad3c"
      },
      "source": [
        "# Check the data's shape\n",
        "\n",
        "print(f\"The dataframe has {data.shape[0]} rows and {data.shape[1]} columns\")"
      ],
      "execution_count": 8,
      "outputs": [
        {
          "output_type": "stream",
          "text": [
            "The dataframe has 50 rows and 5 columns\n"
          ],
          "name": "stdout"
        }
      ]
    },
    {
      "cell_type": "markdown",
      "metadata": {
        "id": "lUC0liPWtjs6",
        "colab_type": "text"
      },
      "source": [
        "Below is a description of all the fields:\n",
        "- `sex (binary): 1 if Male, 0 otherwise`\n",
        "- `age (int): age of patient at start of the study`\n",
        "- `obstruct (binary): obstruction of colon by tumor`\n",
        "- `outcome (binary): 1 if died within 5 years`\n",
        "- `TRTMT (binary): patient was treated`\n",
        "\n",
        "\n",
        "## DATAFRAME\n",
        "\n",
        "What is a dataframe? A dataframe (df) is a two-dimensional, labeled data structure with columns that can be of diffrent datatypes (int, float, bool).\n",
        "Data can be accessed in different ways. If we are looking to access a particular colum of data, we can use the '.' dot-notation. To retrieve the data in the column we pass the dataframe name + '.' + 'column_name'.\n",
        "For instance, to access the age column: "
      ]
    },
    {
      "cell_type": "code",
      "metadata": {
        "id": "9A8La6xis7uz",
        "colab_type": "code",
        "colab": {
          "base_uri": "https://localhost:8080/",
          "height": 119
        },
        "outputId": "f300c23a-1f60-4889-a414-0e835c196f63"
      },
      "source": [
        "# retrieve the first 5 elements of the age column\n",
        "data.age.head()"
      ],
      "execution_count": 12,
      "outputs": [
        {
          "output_type": "execute_result",
          "data": {
            "text/plain": [
              "1    57\n",
              "2    68\n",
              "3    72\n",
              "4    66\n",
              "5    69\n",
              "Name: age, dtype: int64"
            ]
          },
          "metadata": {
            "tags": []
          },
          "execution_count": 12
        }
      ]
    },
    {
      "cell_type": "markdown",
      "metadata": {
        "id": "HYTmCbpKvNrL",
        "colab_type": "text"
      },
      "source": [
        "## SERIES\n",
        "\n",
        "Each column of the dataframe is of type **Series** which are one-dimensional labeled arrays plus its index. Series are similar to python lists with the difference that they can only contain one datatype.\n",
        "Besides dot notation, there are other ways to access the Series data:"
      ]
    },
    {
      "cell_type": "code",
      "metadata": {
        "id": "xolkFxz0ueLR",
        "colab_type": "code",
        "colab": {
          "base_uri": "https://localhost:8080/",
          "height": 119
        },
        "outputId": "018e9be7-2b44-41c2-ae02-489bf33cf37f"
      },
      "source": [
        "# dot notation\n",
        "data.age.head()"
      ],
      "execution_count": 13,
      "outputs": [
        {
          "output_type": "execute_result",
          "data": {
            "text/plain": [
              "1    57\n",
              "2    68\n",
              "3    72\n",
              "4    66\n",
              "5    69\n",
              "Name: age, dtype: int64"
            ]
          },
          "metadata": {
            "tags": []
          },
          "execution_count": 13
        }
      ]
    },
    {
      "cell_type": "code",
      "metadata": {
        "id": "B5UnLEm8wFN8",
        "colab_type": "code",
        "colab": {
          "base_uri": "https://localhost:8080/",
          "height": 119
        },
        "outputId": "814b07d0-645d-49f1-cf2e-9b18bfbb9612"
      },
      "source": [
        "# using .loc\n",
        "data.loc[:, \"age\"].head()"
      ],
      "execution_count": 17,
      "outputs": [
        {
          "output_type": "execute_result",
          "data": {
            "text/plain": [
              "1    57\n",
              "2    68\n",
              "3    72\n",
              "4    66\n",
              "5    69\n",
              "Name: age, dtype: int64"
            ]
          },
          "metadata": {
            "tags": []
          },
          "execution_count": 17
        }
      ]
    },
    {
      "cell_type": "code",
      "metadata": {
        "id": "8-jV60lRwLGF",
        "colab_type": "code",
        "colab": {
          "base_uri": "https://localhost:8080/",
          "height": 119
        },
        "outputId": "1bc32fd1-0688-4d2b-b7c6-a848f17d5a66"
      },
      "source": [
        "# using bracket notation\n",
        "data[\"age\"].head()"
      ],
      "execution_count": 18,
      "outputs": [
        {
          "output_type": "execute_result",
          "data": {
            "text/plain": [
              "1    57\n",
              "2    68\n",
              "3    72\n",
              "4    66\n",
              "5    69\n",
              "Name: age, dtype: int64"
            ]
          },
          "metadata": {
            "tags": []
          },
          "execution_count": 18
        }
      ]
    },
    {
      "cell_type": "markdown",
      "metadata": {
        "id": "Ae7RV1LEweCd",
        "colab_type": "text"
      },
      "source": [
        "## Slicing the Dataframe\n",
        "\n",
        "Often times we would want to retreive certain elements (rows and columns) form our dataframe based on some criteria. For instance, we might want to retrive the data of patients that are younger than 50. We can **slice** the dataframe as follows:"
      ]
    },
    {
      "cell_type": "code",
      "metadata": {
        "id": "1Ltedb7XwaDE",
        "colab_type": "code",
        "colab": {
          "base_uri": "https://localhost:8080/",
          "height": 359
        },
        "outputId": "c9e191c5-e46f-4d8d-e969-7ae3727a4743"
      },
      "source": [
        "data[data.age < 50]"
      ],
      "execution_count": 26,
      "outputs": [
        {
          "output_type": "execute_result",
          "data": {
            "text/html": [
              "<div>\n",
              "<style scoped>\n",
              "    .dataframe tbody tr th:only-of-type {\n",
              "        vertical-align: middle;\n",
              "    }\n",
              "\n",
              "    .dataframe tbody tr th {\n",
              "        vertical-align: top;\n",
              "    }\n",
              "\n",
              "    .dataframe thead th {\n",
              "        text-align: right;\n",
              "    }\n",
              "</style>\n",
              "<table border=\"1\" class=\"dataframe\">\n",
              "  <thead>\n",
              "    <tr style=\"text-align: right;\">\n",
              "      <th></th>\n",
              "      <th>sex</th>\n",
              "      <th>age</th>\n",
              "      <th>obstruct</th>\n",
              "      <th>outcome</th>\n",
              "      <th>TRTMT</th>\n",
              "    </tr>\n",
              "  </thead>\n",
              "  <tbody>\n",
              "    <tr>\n",
              "      <th>6</th>\n",
              "      <td>1</td>\n",
              "      <td>43</td>\n",
              "      <td>0</td>\n",
              "      <td>1</td>\n",
              "      <td>True</td>\n",
              "    </tr>\n",
              "    <tr>\n",
              "      <th>15</th>\n",
              "      <td>1</td>\n",
              "      <td>46</td>\n",
              "      <td>1</td>\n",
              "      <td>0</td>\n",
              "      <td>False</td>\n",
              "    </tr>\n",
              "    <tr>\n",
              "      <th>19</th>\n",
              "      <td>0</td>\n",
              "      <td>34</td>\n",
              "      <td>1</td>\n",
              "      <td>1</td>\n",
              "      <td>True</td>\n",
              "    </tr>\n",
              "    <tr>\n",
              "      <th>32</th>\n",
              "      <td>0</td>\n",
              "      <td>33</td>\n",
              "      <td>1</td>\n",
              "      <td>0</td>\n",
              "      <td>True</td>\n",
              "    </tr>\n",
              "    <tr>\n",
              "      <th>33</th>\n",
              "      <td>0</td>\n",
              "      <td>49</td>\n",
              "      <td>0</td>\n",
              "      <td>1</td>\n",
              "      <td>False</td>\n",
              "    </tr>\n",
              "    <tr>\n",
              "      <th>34</th>\n",
              "      <td>1</td>\n",
              "      <td>47</td>\n",
              "      <td>0</td>\n",
              "      <td>0</td>\n",
              "      <td>False</td>\n",
              "    </tr>\n",
              "    <tr>\n",
              "      <th>42</th>\n",
              "      <td>0</td>\n",
              "      <td>39</td>\n",
              "      <td>1</td>\n",
              "      <td>0</td>\n",
              "      <td>False</td>\n",
              "    </tr>\n",
              "    <tr>\n",
              "      <th>45</th>\n",
              "      <td>1</td>\n",
              "      <td>40</td>\n",
              "      <td>0</td>\n",
              "      <td>0</td>\n",
              "      <td>True</td>\n",
              "    </tr>\n",
              "    <tr>\n",
              "      <th>67</th>\n",
              "      <td>1</td>\n",
              "      <td>49</td>\n",
              "      <td>0</td>\n",
              "      <td>0</td>\n",
              "      <td>True</td>\n",
              "    </tr>\n",
              "    <tr>\n",
              "      <th>70</th>\n",
              "      <td>0</td>\n",
              "      <td>40</td>\n",
              "      <td>0</td>\n",
              "      <td>0</td>\n",
              "      <td>False</td>\n",
              "    </tr>\n",
              "  </tbody>\n",
              "</table>\n",
              "</div>"
            ],
            "text/plain": [
              "    sex  age  obstruct  outcome  TRTMT\n",
              "6     1   43         0        1   True\n",
              "15    1   46         1        0  False\n",
              "19    0   34         1        1   True\n",
              "32    0   33         1        0   True\n",
              "33    0   49         0        1  False\n",
              "34    1   47         0        0  False\n",
              "42    0   39         1        0  False\n",
              "45    1   40         0        0   True\n",
              "67    1   49         0        0   True\n",
              "70    0   40         0        0  False"
            ]
          },
          "metadata": {
            "tags": []
          },
          "execution_count": 26
        }
      ]
    },
    {
      "cell_type": "markdown",
      "metadata": {
        "id": "yVHe6uVZxdCZ",
        "colab_type": "text"
      },
      "source": [
        "What if you wanted to filter a DataFrame based on multiple conditions? \n",
        "- To do this, use the \"&\" as the 'and' operator.  Don't use `and`.\n",
        "- You can use '|' as the 'or' operator.  Don't use `or`.\n",
        "\n",
        "\n",
        "Trying to combine two conditions using `and` won't work\n",
        "```\n",
        "data[(data.age <= 50) and (data.TRTMT == True)]\n",
        "\n",
        "ValueError: The truth value of a Series is ambiguous. Use a.empty, a.bool(), a.item(), a.any() or a.all().\n",
        "```\n",
        "\n",
        "- Don't forget the parentheses around each condition!\n",
        "- Without parentheses, this won't work.\n",
        "\n",
        "\n",
        "Trying to combine two conditions without parentheses results in an error\n",
        "\n",
        "```\n",
        "data[ data.age <= 50 & data.TRTMT == True]\n",
        "```\n",
        "\n",
        "ValueError: The truth value of a Series is ambiguous. Use a.empty, a.bool(), a.item(), a.any() or a.all().\n",
        "\n",
        "\n",
        "#### Retrieve data from patients that are younger than 50 and that have received treatment:"
      ]
    },
    {
      "cell_type": "code",
      "metadata": {
        "id": "otAS1KmZw9kB",
        "colab_type": "code",
        "colab": {
          "base_uri": "https://localhost:8080/",
          "height": 235
        },
        "outputId": "090fe466-50e7-40b4-a932-9c6e67c58305"
      },
      "source": [
        "# Get patients aged 50 or less who received treatment\n",
        "data[(data.age <= 50) & (data.TRTMT == True)]"
      ],
      "execution_count": 27,
      "outputs": [
        {
          "output_type": "execute_result",
          "data": {
            "text/html": [
              "<div>\n",
              "<style scoped>\n",
              "    .dataframe tbody tr th:only-of-type {\n",
              "        vertical-align: middle;\n",
              "    }\n",
              "\n",
              "    .dataframe tbody tr th {\n",
              "        vertical-align: top;\n",
              "    }\n",
              "\n",
              "    .dataframe thead th {\n",
              "        text-align: right;\n",
              "    }\n",
              "</style>\n",
              "<table border=\"1\" class=\"dataframe\">\n",
              "  <thead>\n",
              "    <tr style=\"text-align: right;\">\n",
              "      <th></th>\n",
              "      <th>sex</th>\n",
              "      <th>age</th>\n",
              "      <th>obstruct</th>\n",
              "      <th>outcome</th>\n",
              "      <th>TRTMT</th>\n",
              "    </tr>\n",
              "  </thead>\n",
              "  <tbody>\n",
              "    <tr>\n",
              "      <th>6</th>\n",
              "      <td>1</td>\n",
              "      <td>43</td>\n",
              "      <td>0</td>\n",
              "      <td>1</td>\n",
              "      <td>True</td>\n",
              "    </tr>\n",
              "    <tr>\n",
              "      <th>19</th>\n",
              "      <td>0</td>\n",
              "      <td>34</td>\n",
              "      <td>1</td>\n",
              "      <td>1</td>\n",
              "      <td>True</td>\n",
              "    </tr>\n",
              "    <tr>\n",
              "      <th>24</th>\n",
              "      <td>0</td>\n",
              "      <td>50</td>\n",
              "      <td>0</td>\n",
              "      <td>0</td>\n",
              "      <td>True</td>\n",
              "    </tr>\n",
              "    <tr>\n",
              "      <th>32</th>\n",
              "      <td>0</td>\n",
              "      <td>33</td>\n",
              "      <td>1</td>\n",
              "      <td>0</td>\n",
              "      <td>True</td>\n",
              "    </tr>\n",
              "    <tr>\n",
              "      <th>45</th>\n",
              "      <td>1</td>\n",
              "      <td>40</td>\n",
              "      <td>0</td>\n",
              "      <td>0</td>\n",
              "      <td>True</td>\n",
              "    </tr>\n",
              "    <tr>\n",
              "      <th>67</th>\n",
              "      <td>1</td>\n",
              "      <td>49</td>\n",
              "      <td>0</td>\n",
              "      <td>0</td>\n",
              "      <td>True</td>\n",
              "    </tr>\n",
              "  </tbody>\n",
              "</table>\n",
              "</div>"
            ],
            "text/plain": [
              "    sex  age  obstruct  outcome  TRTMT\n",
              "6     1   43         0        1   True\n",
              "19    0   34         1        1   True\n",
              "24    0   50         0        0   True\n",
              "32    0   33         1        0   True\n",
              "45    1   40         0        0   True\n",
              "67    1   49         0        0   True"
            ]
          },
          "metadata": {
            "tags": []
          },
          "execution_count": 27
        }
      ]
    },
    {
      "cell_type": "code",
      "metadata": {
        "id": "HLoBEDFIyUqs",
        "colab_type": "code",
        "colab": {
          "base_uri": "https://localhost:8080/",
          "height": 34
        },
        "outputId": "aa44e538-a96e-4786-d969-5da75c8ac418"
      },
      "source": [
        "# Check datatype of the sliced data\n",
        "\n",
        "type(data[(data.age <= 50) & (data.TRTMT == True)])"
      ],
      "execution_count": 28,
      "outputs": [
        {
          "output_type": "execute_result",
          "data": {
            "text/plain": [
              "pandas.core.frame.DataFrame"
            ]
          },
          "metadata": {
            "tags": []
          },
          "execution_count": 28
        }
      ]
    },
    {
      "cell_type": "markdown",
      "metadata": {
        "id": "QvZF1dUAykai",
        "colab_type": "text"
      },
      "source": [
        "### Advanced Options\n",
        "\n",
        "There are more advanced \"tricks\" that we can apply to our dataframe to perform more advanced calculations"
      ]
    },
    {
      "cell_type": "code",
      "metadata": {
        "id": "v5p8NPiLyfLu",
        "colab_type": "code",
        "colab": {
          "base_uri": "https://localhost:8080/",
          "height": 68
        },
        "outputId": "f46a3c16-7899-44f8-f065-4ecd519b7994"
      },
      "source": [
        "# Applying len() to the df yields the number of rows\n",
        "print(f\"len: {len(data[(data.age <= 50)])}\")\n",
        "\n",
        "# Accessing the 'shape' attribute of the df yields a tuple of the form (rows, cols)\n",
        "print(f\"shape (rows, cols) {data[(data.age <= 50)].shape}\")\n",
        "\n",
        "# Accessing the 'size' attribute of the df yields the number of elements in the df:\n",
        "print(f\"size: {data[(data.age <= 50)].size}\")"
      ],
      "execution_count": 29,
      "outputs": [
        {
          "output_type": "stream",
          "text": [
            "len: 11\n",
            "shape (rows, cols) (11, 5)\n",
            "size: 55\n"
          ],
          "name": "stdout"
        }
      ]
    },
    {
      "cell_type": "code",
      "metadata": {
        "id": "AZCVDcQmy1Cu",
        "colab_type": "code",
        "colab": {
          "base_uri": "https://localhost:8080/",
          "height": 68
        },
        "outputId": "aa314088-1a84-4570-a03b-e66f10816ce0"
      },
      "source": [
        "# Applying len() to the df yields the number of rows\n",
        "print(f\"{len(data.TRTMT)}\")\n",
        "\n",
        "# Accessing the 'shape' attribute of the df yields a tuple of the form (rows, cols)\n",
        "print(f\"{data.TRTMT.shape}\")\n",
        "\n",
        "# Accessing the 'size' attribute of the df yields the number of elements in the df:\n",
        "print(f\"{data.TRTMT.size}\")"
      ],
      "execution_count": 30,
      "outputs": [
        {
          "output_type": "stream",
          "text": [
            "50\n",
            "(50,)\n",
            "50\n"
          ],
          "name": "stdout"
        }
      ]
    },
    {
      "cell_type": "markdown",
      "metadata": {
        "id": "0XUDF62Ly-Ej",
        "colab_type": "text"
      },
      "source": [
        "# Exercise:\n",
        "\n",
        "Calculate the proportion of male patients.\n",
        "\n",
        "There are a few ways to solve this, we can add the number of male patients and divide by the total number of patients. \n",
        "\n",
        "We can also apply the `mean()` since we are dealing with binary data (0, 1)"
      ]
    },
    {
      "cell_type": "code",
      "metadata": {
        "id": "0IcLRyqny5sk",
        "colab_type": "code",
        "colab": {
          "base_uri": "https://localhost:8080/",
          "height": 68
        },
        "outputId": "630d4810-0fdd-4fab-c90a-4c29225f3144"
      },
      "source": [
        "total_sex = len(data[\"sex\"])\n",
        "print(total_sex)\n",
        "males = sum(data[\"sex\"] == 1)\n",
        "print(males)\n",
        "\n",
        "prop_male_patients = males / len(data)\n",
        "print(f\"The proportion of male patients is {prop_male_patients}\")"
      ],
      "execution_count": 32,
      "outputs": [
        {
          "output_type": "stream",
          "text": [
            "50\n",
            "21\n",
            "The proportion of male patients is 0.42\n"
          ],
          "name": "stdout"
        }
      ]
    },
    {
      "cell_type": "code",
      "metadata": {
        "id": "uZCxKBHqzpFj",
        "colab_type": "code",
        "colab": {
          "base_uri": "https://localhost:8080/",
          "height": 34
        },
        "outputId": "c106d7ab-2221-496f-cba5-347a5ee7bdb4"
      },
      "source": [
        "# use the .mean(), which is much simpler\n",
        "data.sex.mean()"
      ],
      "execution_count": 33,
      "outputs": [
        {
          "output_type": "execute_result",
          "data": {
            "text/plain": [
              "0.42"
            ]
          },
          "metadata": {
            "tags": []
          },
          "execution_count": 33
        }
      ]
    },
    {
      "cell_type": "markdown",
      "metadata": {
        "id": "xTnxBvarz5yn",
        "colab_type": "text"
      },
      "source": [
        "### Updating Values\n",
        "\n",
        "Often times, we would need to update records/data in our dataframe. \n",
        "Let's say you detected an error in the data, where the second patient was actually treated. \n",
        "- To update the data, you can use .loc[row, col] and specify the row and column you want to update.\n",
        "- Notice that because the dataframe's index is defined, the first row is at index 1 and not 0.\n",
        "- If the index was not set, then indexing would start at 0.\n",
        "\n",
        "Try to access patient 0, and note the error message\n",
        "```\n",
        "data.loc[0,'TRTMT']\n",
        "\n",
        "KeyError: 0\n",
        "```"
      ]
    },
    {
      "cell_type": "code",
      "metadata": {
        "id": "B65OUWeJ02Ai",
        "colab_type": "code",
        "colab": {
          "base_uri": "https://localhost:8080/",
          "height": 204
        },
        "outputId": "8bdbab58-e34a-4f0f-a01e-7d1fad33c0bc"
      },
      "source": [
        "# print the data head\n",
        "\n",
        "data.head()"
      ],
      "execution_count": 36,
      "outputs": [
        {
          "output_type": "execute_result",
          "data": {
            "text/html": [
              "<div>\n",
              "<style scoped>\n",
              "    .dataframe tbody tr th:only-of-type {\n",
              "        vertical-align: middle;\n",
              "    }\n",
              "\n",
              "    .dataframe tbody tr th {\n",
              "        vertical-align: top;\n",
              "    }\n",
              "\n",
              "    .dataframe thead th {\n",
              "        text-align: right;\n",
              "    }\n",
              "</style>\n",
              "<table border=\"1\" class=\"dataframe\">\n",
              "  <thead>\n",
              "    <tr style=\"text-align: right;\">\n",
              "      <th></th>\n",
              "      <th>sex</th>\n",
              "      <th>age</th>\n",
              "      <th>obstruct</th>\n",
              "      <th>outcome</th>\n",
              "      <th>TRTMT</th>\n",
              "    </tr>\n",
              "  </thead>\n",
              "  <tbody>\n",
              "    <tr>\n",
              "      <th>1</th>\n",
              "      <td>0</td>\n",
              "      <td>57</td>\n",
              "      <td>0</td>\n",
              "      <td>1</td>\n",
              "      <td>True</td>\n",
              "    </tr>\n",
              "    <tr>\n",
              "      <th>2</th>\n",
              "      <td>1</td>\n",
              "      <td>68</td>\n",
              "      <td>0</td>\n",
              "      <td>0</td>\n",
              "      <td>False</td>\n",
              "    </tr>\n",
              "    <tr>\n",
              "      <th>3</th>\n",
              "      <td>0</td>\n",
              "      <td>72</td>\n",
              "      <td>0</td>\n",
              "      <td>0</td>\n",
              "      <td>True</td>\n",
              "    </tr>\n",
              "    <tr>\n",
              "      <th>4</th>\n",
              "      <td>0</td>\n",
              "      <td>66</td>\n",
              "      <td>1</td>\n",
              "      <td>1</td>\n",
              "      <td>True</td>\n",
              "    </tr>\n",
              "    <tr>\n",
              "      <th>5</th>\n",
              "      <td>1</td>\n",
              "      <td>69</td>\n",
              "      <td>0</td>\n",
              "      <td>1</td>\n",
              "      <td>False</td>\n",
              "    </tr>\n",
              "  </tbody>\n",
              "</table>\n",
              "</div>"
            ],
            "text/plain": [
              "   sex  age  obstruct  outcome  TRTMT\n",
              "1    0   57         0        1   True\n",
              "2    1   68         0        0  False\n",
              "3    0   72         0        0   True\n",
              "4    0   66         1        1   True\n",
              "5    1   69         0        1  False"
            ]
          },
          "metadata": {
            "tags": []
          },
          "execution_count": 36
        }
      ]
    },
    {
      "cell_type": "code",
      "metadata": {
        "id": "hb7eArtdz2pS",
        "colab_type": "code",
        "colab": {
          "base_uri": "https://localhost:8080/",
          "height": 34
        },
        "outputId": "f5df064a-1acc-47a5-d79f-f683951bc02d"
      },
      "source": [
        "# check the TRTMT value for patient 2\n",
        "\n",
        "data.loc[2, \"TRTMT\"]"
      ],
      "execution_count": 35,
      "outputs": [
        {
          "output_type": "execute_result",
          "data": {
            "text/plain": [
              "False"
            ]
          },
          "metadata": {
            "tags": []
          },
          "execution_count": 35
        }
      ]
    },
    {
      "cell_type": "code",
      "metadata": {
        "id": "HtWOPKQ00Zuh",
        "colab_type": "code",
        "colab": {
          "base_uri": "https://localhost:8080/",
          "height": 204
        },
        "outputId": "211a7a6c-186a-4f70-cee3-18c48d99d274"
      },
      "source": [
        "# Update the treatment record for patient 2 to TRUE\n",
        "\n",
        "data.loc[2, \"TRTMT\"] = True\n",
        "data.head()"
      ],
      "execution_count": 38,
      "outputs": [
        {
          "output_type": "execute_result",
          "data": {
            "text/html": [
              "<div>\n",
              "<style scoped>\n",
              "    .dataframe tbody tr th:only-of-type {\n",
              "        vertical-align: middle;\n",
              "    }\n",
              "\n",
              "    .dataframe tbody tr th {\n",
              "        vertical-align: top;\n",
              "    }\n",
              "\n",
              "    .dataframe thead th {\n",
              "        text-align: right;\n",
              "    }\n",
              "</style>\n",
              "<table border=\"1\" class=\"dataframe\">\n",
              "  <thead>\n",
              "    <tr style=\"text-align: right;\">\n",
              "      <th></th>\n",
              "      <th>sex</th>\n",
              "      <th>age</th>\n",
              "      <th>obstruct</th>\n",
              "      <th>outcome</th>\n",
              "      <th>TRTMT</th>\n",
              "    </tr>\n",
              "  </thead>\n",
              "  <tbody>\n",
              "    <tr>\n",
              "      <th>1</th>\n",
              "      <td>0</td>\n",
              "      <td>57</td>\n",
              "      <td>0</td>\n",
              "      <td>1</td>\n",
              "      <td>True</td>\n",
              "    </tr>\n",
              "    <tr>\n",
              "      <th>2</th>\n",
              "      <td>1</td>\n",
              "      <td>68</td>\n",
              "      <td>0</td>\n",
              "      <td>0</td>\n",
              "      <td>True</td>\n",
              "    </tr>\n",
              "    <tr>\n",
              "      <th>3</th>\n",
              "      <td>0</td>\n",
              "      <td>72</td>\n",
              "      <td>0</td>\n",
              "      <td>0</td>\n",
              "      <td>True</td>\n",
              "    </tr>\n",
              "    <tr>\n",
              "      <th>4</th>\n",
              "      <td>0</td>\n",
              "      <td>66</td>\n",
              "      <td>1</td>\n",
              "      <td>1</td>\n",
              "      <td>True</td>\n",
              "    </tr>\n",
              "    <tr>\n",
              "      <th>5</th>\n",
              "      <td>1</td>\n",
              "      <td>69</td>\n",
              "      <td>0</td>\n",
              "      <td>1</td>\n",
              "      <td>False</td>\n",
              "    </tr>\n",
              "  </tbody>\n",
              "</table>\n",
              "</div>"
            ],
            "text/plain": [
              "   sex  age  obstruct  outcome  TRTMT\n",
              "1    0   57         0        1   True\n",
              "2    1   68         0        0   True\n",
              "3    0   72         0        0   True\n",
              "4    0   66         1        1   True\n",
              "5    1   69         0        1  False"
            ]
          },
          "metadata": {
            "tags": []
          },
          "execution_count": 38
        }
      ]
    },
    {
      "cell_type": "markdown",
      "metadata": {
        "id": "e4BsHpT31Dep",
        "colab_type": "text"
      },
      "source": [
        "Let's now assume that the data collected is for females only so we need to change the entire column to $0$:"
      ]
    },
    {
      "cell_type": "code",
      "metadata": {
        "id": "YPRHfmm305t0",
        "colab_type": "code",
        "colab": {
          "base_uri": "https://localhost:8080/",
          "height": 204
        },
        "outputId": "7d393a40-c5cc-438f-e9d8-224e33b6e7c3"
      },
      "source": [
        "data.loc[:, 'sex'] = 0\n",
        "data.head()"
      ],
      "execution_count": 40,
      "outputs": [
        {
          "output_type": "execute_result",
          "data": {
            "text/html": [
              "<div>\n",
              "<style scoped>\n",
              "    .dataframe tbody tr th:only-of-type {\n",
              "        vertical-align: middle;\n",
              "    }\n",
              "\n",
              "    .dataframe tbody tr th {\n",
              "        vertical-align: top;\n",
              "    }\n",
              "\n",
              "    .dataframe thead th {\n",
              "        text-align: right;\n",
              "    }\n",
              "</style>\n",
              "<table border=\"1\" class=\"dataframe\">\n",
              "  <thead>\n",
              "    <tr style=\"text-align: right;\">\n",
              "      <th></th>\n",
              "      <th>sex</th>\n",
              "      <th>age</th>\n",
              "      <th>obstruct</th>\n",
              "      <th>outcome</th>\n",
              "      <th>TRTMT</th>\n",
              "    </tr>\n",
              "  </thead>\n",
              "  <tbody>\n",
              "    <tr>\n",
              "      <th>1</th>\n",
              "      <td>0</td>\n",
              "      <td>57</td>\n",
              "      <td>0</td>\n",
              "      <td>1</td>\n",
              "      <td>True</td>\n",
              "    </tr>\n",
              "    <tr>\n",
              "      <th>2</th>\n",
              "      <td>0</td>\n",
              "      <td>68</td>\n",
              "      <td>0</td>\n",
              "      <td>0</td>\n",
              "      <td>True</td>\n",
              "    </tr>\n",
              "    <tr>\n",
              "      <th>3</th>\n",
              "      <td>0</td>\n",
              "      <td>72</td>\n",
              "      <td>0</td>\n",
              "      <td>0</td>\n",
              "      <td>True</td>\n",
              "    </tr>\n",
              "    <tr>\n",
              "      <th>4</th>\n",
              "      <td>0</td>\n",
              "      <td>66</td>\n",
              "      <td>1</td>\n",
              "      <td>1</td>\n",
              "      <td>True</td>\n",
              "    </tr>\n",
              "    <tr>\n",
              "      <th>5</th>\n",
              "      <td>0</td>\n",
              "      <td>69</td>\n",
              "      <td>0</td>\n",
              "      <td>1</td>\n",
              "      <td>False</td>\n",
              "    </tr>\n",
              "  </tbody>\n",
              "</table>\n",
              "</div>"
            ],
            "text/plain": [
              "   sex  age  obstruct  outcome  TRTMT\n",
              "1    0   57         0        1   True\n",
              "2    0   68         0        0   True\n",
              "3    0   72         0        0   True\n",
              "4    0   66         1        1   True\n",
              "5    0   69         0        1  False"
            ]
          },
          "metadata": {
            "tags": []
          },
          "execution_count": 40
        }
      ]
    },
    {
      "cell_type": "markdown",
      "metadata": {
        "id": "mnvAKrnX1lzZ",
        "colab_type": "text"
      },
      "source": [
        "We can also access/slice data by range `start:end`. We do so by passing the indices (rows, columns) of the desire data. \n",
        "For instance, if we want to retrieve data for rows 2 and 4 (inclusive):"
      ]
    },
    {
      "cell_type": "code",
      "metadata": {
        "id": "qi7si-f01adO",
        "colab_type": "code",
        "colab": {
          "base_uri": "https://localhost:8080/",
          "height": 142
        },
        "outputId": "fc3bfd68-ea90-415c-b6f0-75acbcc1e3ae"
      },
      "source": [
        "data.loc[2:4, :]"
      ],
      "execution_count": 58,
      "outputs": [
        {
          "output_type": "execute_result",
          "data": {
            "text/html": [
              "<div>\n",
              "<style scoped>\n",
              "    .dataframe tbody tr th:only-of-type {\n",
              "        vertical-align: middle;\n",
              "    }\n",
              "\n",
              "    .dataframe tbody tr th {\n",
              "        vertical-align: top;\n",
              "    }\n",
              "\n",
              "    .dataframe thead th {\n",
              "        text-align: right;\n",
              "    }\n",
              "</style>\n",
              "<table border=\"1\" class=\"dataframe\">\n",
              "  <thead>\n",
              "    <tr style=\"text-align: right;\">\n",
              "      <th></th>\n",
              "      <th>sex</th>\n",
              "      <th>age</th>\n",
              "      <th>obstruct</th>\n",
              "      <th>outcome</th>\n",
              "      <th>TRTMT</th>\n",
              "    </tr>\n",
              "  </thead>\n",
              "  <tbody>\n",
              "    <tr>\n",
              "      <th>2</th>\n",
              "      <td>0</td>\n",
              "      <td>68</td>\n",
              "      <td>0</td>\n",
              "      <td>0</td>\n",
              "      <td>True</td>\n",
              "    </tr>\n",
              "    <tr>\n",
              "      <th>3</th>\n",
              "      <td>0</td>\n",
              "      <td>72</td>\n",
              "      <td>0</td>\n",
              "      <td>0</td>\n",
              "      <td>True</td>\n",
              "    </tr>\n",
              "    <tr>\n",
              "      <th>4</th>\n",
              "      <td>0</td>\n",
              "      <td>66</td>\n",
              "      <td>1</td>\n",
              "      <td>1</td>\n",
              "      <td>True</td>\n",
              "    </tr>\n",
              "  </tbody>\n",
              "</table>\n",
              "</div>"
            ],
            "text/plain": [
              "   sex  age  obstruct  outcome  TRTMT\n",
              "2    0   68         0        0   True\n",
              "3    0   72         0        0   True\n",
              "4    0   66         1        1   True"
            ]
          },
          "metadata": {
            "tags": []
          },
          "execution_count": 58
        }
      ]
    },
    {
      "cell_type": "markdown",
      "metadata": {
        "id": "dTBirAJY3Ikn",
        "colab_type": "text"
      },
      "source": [
        "Now, let's say that I only want to retrieve the age for patient 3.\n",
        "For this we woul use the `iloc` and the index for that value:\n"
      ]
    },
    {
      "cell_type": "code",
      "metadata": {
        "id": "H7h0fQs82MYm",
        "colab_type": "code",
        "colab": {
          "base_uri": "https://localhost:8080/",
          "height": 51
        },
        "outputId": "072978e3-4e66-4b88-96e9-22aba2304ef7"
      },
      "source": [
        "data.iloc[2:3, 1]"
      ],
      "execution_count": 63,
      "outputs": [
        {
          "output_type": "execute_result",
          "data": {
            "text/plain": [
              "3    72\n",
              "Name: age, dtype: int64"
            ]
          },
          "metadata": {
            "tags": []
          },
          "execution_count": 63
        }
      ]
    },
    {
      "cell_type": "code",
      "metadata": {
        "id": "ZjNShCFo3bhr",
        "colab_type": "code",
        "colab": {
          "base_uri": "https://localhost:8080/",
          "height": 282
        },
        "outputId": "1ab829c0-2fec-4fbc-fc8c-d685fa17e90b"
      },
      "source": [
        "data['age'].hist()"
      ],
      "execution_count": 67,
      "outputs": [
        {
          "output_type": "execute_result",
          "data": {
            "text/plain": [
              "<matplotlib.axes._subplots.AxesSubplot at 0x7f8669d8aac8>"
            ]
          },
          "metadata": {
            "tags": []
          },
          "execution_count": 67
        },
        {
          "output_type": "display_data",
          "data": {
            "image/png": "[encoded data removed]",
            "text/plain": [
              "<Figure size 432x288 with 1 Axes>"
            ]
          },
          "metadata": {
            "tags": [],
            "needs_background": "light"
          }
        }
      ]
    },
    {
      "cell_type": "code",
      "metadata": {
        "id": "X0ePcL1e30ub",
        "colab_type": "code",
        "colab": {
          "base_uri": "https://localhost:8080/",
          "height": 282
        },
        "outputId": "359ff9da-3e0c-4348-89bc-96e42efd3729"
      },
      "source": [
        "data['outcome'].hist()"
      ],
      "execution_count": 79,
      "outputs": [
        {
          "output_type": "execute_result",
          "data": {
            "text/plain": [
              "<matplotlib.axes._subplots.AxesSubplot at 0x7f8669354dd8>"
            ]
          },
          "metadata": {
            "tags": []
          },
          "execution_count": 79
        },
        {
          "output_type": "display_data",
          "data": {
            "image/png": "[encoded data removed]",
            "text/plain": [
              "<Figure size 432x288 with 1 Axes>"
            ]
          },
          "metadata": {
            "tags": [],
            "needs_background": "light"
          }
        }
      ]
    },
    {
      "cell_type": "code",
      "metadata": {
        "id": "jRATsIeh4DZx",
        "colab_type": "code",
        "colab": {
          "base_uri": "https://localhost:8080/",
          "height": 282
        },
        "outputId": "dde7e3b9-ad23-4d58-9444-4c71cbdff922"
      },
      "source": [
        "data[data.TRTMT == 1].count().hist()\n",
        "data[data.TRTMT == 0].count().hist()"
      ],
      "execution_count": 87,
      "outputs": [
        {
          "output_type": "execute_result",
          "data": {
            "text/plain": [
              "<matplotlib.axes._subplots.AxesSubplot at 0x7f8668e4ccf8>"
            ]
          },
          "metadata": {
            "tags": []
          },
          "execution_count": 87
        },
        {
          "output_type": "display_data",
          "data": {
            "image/png": "[encoded data removed]",
            "text/plain": [
              "<Figure size 432x288 with 1 Axes>"
            ]
          },
          "metadata": {
            "tags": [],
            "needs_background": "light"
          }
        }
      ]
    },
    {
      "cell_type": "code",
      "metadata": {
        "id": "sQn8arOS75YC",
        "colab_type": "code",
        "colab": {}
      },
      "source": [
        ""
      ],
      "execution_count": 0,
      "outputs": []
    }
  ]
}