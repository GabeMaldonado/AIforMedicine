{
  "nbformat": 4,
  "nbformat_minor": 0,
  "metadata": {
    "colab": {
      "name": "AIforMed_C2_W1_Lab4.ipynb",
      "provenance": [],
      "collapsed_sections": [],
      "authorship_tag": "ABX9TyPakZcR0uWnV9h6tnH3jlW9",
      "include_colab_link": true
    },
    "kernelspec": {
      "name": "python3",
      "display_name": "Python 3"
    }
  },
  "cells": [
    {
      "cell_type": "markdown",
      "metadata": {
        "id": "view-in-github",
        "colab_type": "text"
      },
      "source": [
        "<a href=\"https://colab.research.google.com/github/GabeMaldonado/AIforMedicine/blob/master/AIforMed_C2_W1_Lab4.ipynb\" target=\"_parent\"><img src=\"https://colab.research.google.com/assets/colab-badge.svg\" alt=\"Open In Colab\"/></a>"
      ]
    },
    {
      "cell_type": "markdown",
      "metadata": {
        "id": "bf7K7SPdFros",
        "colab_type": "text"
      },
      "source": [
        "# Calculating Concordance Index C-Index\n"
      ]
    },
    {
      "cell_type": "code",
      "metadata": {
        "id": "HyhCLW_fFwzG",
        "colab_type": "code",
        "colab": {
          "base_uri": "https://localhost:8080/",
          "height": 51
        },
        "outputId": "f662ac72-d7e0-4164-d3f8-a50a9adb4131"
      },
      "source": [
        "import pandas as pd\n",
        "import numpy as np\n",
        "import matplotlib.pyplot as plt\n",
        "import seaborn as sns\n"
      ],
      "execution_count": 1,
      "outputs": [
        {
          "output_type": "stream",
          "text": [
            "/usr/local/lib/python3.6/dist-packages/statsmodels/tools/_testing.py:19: FutureWarning: pandas.util.testing is deprecated. Use the functions in the public API at pandas.testing instead.\n",
            "  import pandas.util.testing as tm\n"
          ],
          "name": "stderr"
        }
      ]
    },
    {
      "cell_type": "markdown",
      "metadata": {
        "id": "NdMsP3FPF-VV",
        "colab_type": "text"
      },
      "source": [
        "## Define y\n",
        "\n",
        "Here y refers to the patients outcome:\n",
        "*  1 indicates disease\n",
        "*  0 indicates normal"
      ]
    },
    {
      "cell_type": "code",
      "metadata": {
        "id": "QDbpO-OCF6fK",
        "colab_type": "code",
        "colab": {
          "base_uri": "https://localhost:8080/",
          "height": 119
        },
        "outputId": "16f92d7a-5637-4a7e-b913-5ec2fc6c8d15"
      },
      "source": [
        "# Define y\n",
        "\n",
        "y = pd.Series([0, 0, 1, 1, 0])\n",
        "y.name = \"health\"\n",
        "y"
      ],
      "execution_count": 3,
      "outputs": [
        {
          "output_type": "execute_result",
          "data": {
            "text/plain": [
              "0    0\n",
              "1    0\n",
              "2    1\n",
              "3    1\n",
              "4    0\n",
              "Name: health, dtype: int64"
            ]
          },
          "metadata": {
            "tags": []
          },
          "execution_count": 3
        }
      ]
    },
    {
      "cell_type": "markdown",
      "metadata": {
        "id": "oNewuioWGjuy",
        "colab_type": "text"
      },
      "source": [
        "### Define the Risk Scores\n",
        "\n",
        "Define some risk scores that some model might produce for each patient.  Normally, you would run the patient features through a risk model to create these risk scores.  For practice, you will use the following values in the next cell."
      ]
    },
    {
      "cell_type": "code",
      "metadata": {
        "id": "5tjnQJgBGX_y",
        "colab_type": "code",
        "colab": {
          "base_uri": "https://localhost:8080/",
          "height": 102
        },
        "outputId": "2713e365-166d-4c4f-cec2-164237301cf9"
      },
      "source": [
        "# Define risk scores for each patient\n",
        "\n",
        "risk_score = pd.Series([2.2, 3.3, 4.4, 4.4])\n",
        "risk_score.name = \"risk score \"\n",
        "risk_score\n"
      ],
      "execution_count": 4,
      "outputs": [
        {
          "output_type": "execute_result",
          "data": {
            "text/plain": [
              "0    2.2\n",
              "1    3.3\n",
              "2    4.4\n",
              "3    4.4\n",
              "Name: risk score , dtype: float64"
            ]
          },
          "metadata": {
            "tags": []
          },
          "execution_count": 4
        }
      ]
    },
    {
      "cell_type": "markdown",
      "metadata": {
        "id": "1v7_e1dwHQom",
        "colab_type": "text"
      },
      "source": [
        "## Identify a Permissible Pair\n",
        "\n",
        "A pair of patients is permissible if their outcomes are different. Let's compare the labels programmatically."
      ]
    },
    {
      "cell_type": "code",
      "metadata": {
        "id": "UBM_KYSPG23i",
        "colab_type": "code",
        "colab": {
          "base_uri": "https://localhost:8080/",
          "height": 34
        },
        "outputId": "bb20efc1-fc5b-4d33-a0a1-96bab7f1aeba"
      },
      "source": [
        "# Check if patients 0 and 1 make a permissible pair\n",
        "\n",
        "if y[0] != y[1]:\n",
        "  print(f\"y[0] = {y[0]} and y[1] = {y[1]} is a permissible pair\")\n",
        "else:\n",
        "  print(f\"y[0] = {y[0]} and y[1] = {y[1]} is not a permissible pair\")"
      ],
      "execution_count": 6,
      "outputs": [
        {
          "output_type": "stream",
          "text": [
            "y[0] = 0 and y[1] = 0 is not a permissible pair\n"
          ],
          "name": "stdout"
        }
      ]
    },
    {
      "cell_type": "code",
      "metadata": {
        "id": "1GI1uGxCIV6t",
        "colab_type": "code",
        "colab": {
          "base_uri": "https://localhost:8080/",
          "height": 34
        },
        "outputId": "c7a0e760-955f-4958-faec-c3f0e1ab1a4d"
      },
      "source": [
        "# Check if patients 0 and 2 make a permissible pair\n",
        "\n",
        "if y[0] != y[2]:\n",
        "  print(f\"y[0] = {y[0]} and y[2] = {y[2]} is a permissible pair\")\n",
        "else:\n",
        "  print(f\"y[0] = {y[0]} and y[2] = {y[2]} is not a permissible pair\")"
      ],
      "execution_count": 7,
      "outputs": [
        {
          "output_type": "stream",
          "text": [
            "y[0] = 0 and y[2] = 1 is a permissible pair\n"
          ],
          "name": "stdout"
        }
      ]
    },
    {
      "cell_type": "markdown",
      "metadata": {
        "id": "OjsPjLdAI-w3",
        "colab_type": "text"
      },
      "source": [
        "### Check for risk ties\n",
        "- For permissible pairs, check if they have the same risk score"
      ]
    },
    {
      "cell_type": "code",
      "metadata": {
        "id": "3RZC9Xl4IwFL",
        "colab_type": "code",
        "colab": {
          "base_uri": "https://localhost:8080/",
          "height": 34
        },
        "outputId": "137b8499-f5c8-4a14-c66c-fb6f6451e831"
      },
      "source": [
        "# Check if patients 2 and 3 make a risk tie\n",
        "\n",
        "if risk_score[2] == risk_score[3]:\n",
        "  print(f\"patient 2({risk_score[2]}) and patient 3 ({risk_score[3]}) have a risk tie\")\n",
        "else:\n",
        "  print(f\"patient 2({risk_score[2]}) and patient 3 ({risk_score[3]}) do not have a risk tie\")"
      ],
      "execution_count": 8,
      "outputs": [
        {
          "output_type": "stream",
          "text": [
            "patient 2(4.4) and patient 3 (4.4) have a risk tie\n"
          ],
          "name": "stdout"
        }
      ]
    },
    {
      "cell_type": "markdown",
      "metadata": {
        "id": "4o1oQEedKKxC",
        "colab_type": "text"
      },
      "source": [
        "## Concordant Pairs\n",
        "\n",
        "*   Check if permissible pair is also a concordant pair\n",
        "*   Check one case where the first patient is healthy and the second has the disease"
      ]
    },
    {
      "cell_type": "code",
      "metadata": {
        "id": "O5-5K08qKIBB",
        "colab_type": "code",
        "colab": {
          "base_uri": "https://localhost:8080/",
          "height": 34
        },
        "outputId": "5114ea10-78b2-43ba-c065-cf1ad80416ce"
      },
      "source": [
        "# check if patient 1 and 2 make a concordant pair\n",
        "\n",
        "if y[1] == 0 and y[2] == 1:\n",
        "  if risk_score[1] < risk_score[2]:\n",
        "    print(f\"patient 1 and patient 2 is a concordant pair\")"
      ],
      "execution_count": 9,
      "outputs": [
        {
          "output_type": "stream",
          "text": [
            "patient 1 and patient 2 is a concordant pair\n"
          ],
          "name": "stdout"
        }
      ]
    },
    {
      "cell_type": "code",
      "metadata": {
        "id": "NtJJ97mmLFvI",
        "colab_type": "code",
        "colab": {}
      },
      "source": [
        ""
      ],
      "execution_count": 0,
      "outputs": []
    }
  ]
}