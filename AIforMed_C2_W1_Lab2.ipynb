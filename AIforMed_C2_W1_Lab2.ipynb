{
  "nbformat": 4,
  "nbformat_minor": 0,
  "metadata": {
    "colab": {
      "name": "AIforMed_C2_W1_Lab2.ipynb",
      "provenance": [],
      "collapsed_sections": [],
      "authorship_tag": "ABX9TyNnBGQUYD265qgQvovDmQcR",
      "include_colab_link": true
    },
    "kernelspec": {
      "name": "python3",
      "display_name": "Python 3"
    }
  },
  "cells": [
    {
      "cell_type": "markdown",
      "metadata": {
        "id": "view-in-github",
        "colab_type": "text"
      },
      "source": [
        "<a href=\"https://colab.research.google.com/github/GabeMaldonado/AIforMedicine/blob/master/AIforMed_C2_W1_Lab2.ipynb\" target=\"_parent\"><img src=\"https://colab.research.google.com/assets/colab-badge.svg\" alt=\"Open In Colab\"/></a>"
      ]
    },
    {
      "cell_type": "markdown",
      "metadata": {
        "id": "-TE8qmSzvebI",
        "colab_type": "text"
      },
      "source": [
        "# Calculating Risk Scores Using Python\n",
        "In this lab we'll calculate the risk scores for:\n",
        "*   Atrial Fibrilation -- CHADs-VASC score\n",
        "*   Liver Disease - MELD score\n",
        "*   Heart Disease - ASCVD score\n",
        "\n"
      ]
    },
    {
      "cell_type": "code",
      "metadata": {
        "id": "_rNMhkttvl5b",
        "colab_type": "code",
        "colab": {}
      },
      "source": [
        "# Compute CHADs-Vasc score\n",
        "\n",
        "\n",
        "def chads_vasc_score(input_c, input_h, input_a2, input_d, input_s2, input_v, input_a, input_sc):\n",
        "    # congestive heart failure\n",
        "    coef_c = 1 \n",
        "    \n",
        "    # Coefficient for hypertension\n",
        "    coef_h = 1 \n",
        "    \n",
        "    # Coefficient for Age >= 75 years\n",
        "    coef_a2 = 2\n",
        "    \n",
        "    # Coefficient for diabetes mellitus\n",
        "    coef_d = 1\n",
        "    \n",
        "    # Coefficient for stroke\n",
        "    coef_s2 = 2\n",
        "    \n",
        "    # Coefficient for vascular disease\n",
        "    coef_v = 1\n",
        "    \n",
        "    # Coefficient for age 65 to 74 years\n",
        "    coef_a = 1\n",
        "    \n",
        "    # TODO Coefficient for female\n",
        "    coef_sc = 1\n",
        "    \n",
        "    # Calculate the risk score\n",
        "    risk_score = (input_c * coef_c) +\\\n",
        "                 (input_h * coef_h) +\\\n",
        "                 (input_a2 * coef_a2) +\\\n",
        "                 (input_d * coef_d) +\\\n",
        "                 (input_s2 * coef_s2) +\\\n",
        "                 (input_v * coef_v) +\\\n",
        "                 (input_a * coef_a) +\\\n",
        "                 (input_sc * coef_sc)\n",
        "    \n",
        "    return risk_score"
      ],
      "execution_count": 0,
      "outputs": []
    },
    {
      "cell_type": "markdown",
      "metadata": {
        "id": "RbvNEH-cxRu8",
        "colab_type": "text"
      },
      "source": [
        "Calculate risk score for a patient with the following inputs:\n",
        "<pre>\n",
        "*   Congestive heart failure : NO\n",
        "*   Hypertention             : YES\n",
        "*   Age 75 or older          : NO\n",
        "*   Diabetis Mellitus        : NO\n",
        "*   Stroke                   : NO\n",
        "*   Vascular disease         : YES\n",
        "*   Age 65 to 74             : NO\n",
        "*   Female?                  : YES \n",
        "</pre>"
      ]
    },
    {
      "cell_type": "code",
      "metadata": {
        "id": "hwQKXaarxPEY",
        "colab_type": "code",
        "colab": {
          "base_uri": "https://localhost:8080/",
          "height": 34
        },
        "outputId": "9f31657c-f690-4d9e-933a-a078c9971d16"
      },
      "source": [
        "# Calculate CHADs-Vasc score for patient above\n",
        "\n",
        "tmp_c = 0\n",
        "tmp_h = 1\n",
        "tmp_a2 = 0\n",
        "tmp_d = 0\n",
        "tmp_s2 = 0\n",
        "tmp_v = 1\n",
        "tmp_a = 0\n",
        "tmp_sc = 1\n",
        "\n",
        "print(f\"The CHADs-Vasc score for this patient is: \",\n",
        "      f\"{chads_vasc_score(tmp_c, tmp_h, tmp_a2, tmp_d, tmp_s2, tmp_v, tmp_a, tmp_sc)}\")"
      ],
      "execution_count": 3,
      "outputs": [
        {
          "output_type": "stream",
          "text": [
            "The CHADs-Vasc score for this patient is:  3\n"
          ],
          "name": "stdout"
        }
      ]
    },
    {
      "cell_type": "markdown",
      "metadata": {
        "id": "61Zc3vKLzBCI",
        "colab_type": "text"
      },
      "source": [
        "## Calcualate Score for Liver Disease (MELD)\n",
        "\n"
      ]
    },
    {
      "cell_type": "code",
      "metadata": {
        "id": "I_kEGdviy58P",
        "colab_type": "code",
        "colab": {}
      },
      "source": [
        "# Implement function to calculate MELD score\n",
        "\n",
        "import numpy as np\n",
        "\n",
        "def liver_disease_mortality(input_creatine, input_bilirubin, input_inr):\n",
        "  \"\"\"\n",
        "    Calculate the probability of mortality given that the patient has\n",
        "    liver disease. \n",
        "    Parameters:\n",
        "        Creatine: mg/dL\n",
        "        Bilirubin: mg/dL\n",
        "        INR: \n",
        "   \"\"\"\n",
        " \n",
        "  # Coefficient Values\n",
        "  coef_creatine = 0.957\n",
        "  coef_bilirubin = 0.378\n",
        "  coef_inr = 1.12\n",
        "  intercept = 0.643\n",
        "\n",
        "  # Calculate the natural logarithm of inpuit variables\n",
        "  log_cre = np.log(input_creatine)\n",
        "  log_bil = np.log(input_bilirubin)\n",
        "  log_inr = np.log(input_inr)\n",
        "\n",
        "  # Compute output\n",
        "  meld_score = (coef_creatine * log_cre) +\\\n",
        "               (coef_bilirubin * log_bil) +\\\n",
        "               (coef_inr * log_inr) +\\\n",
        "               intercept\n",
        "\n",
        "  # Multiply meld_score by 10 to get final score\n",
        "  meld_score = meld_score * 10\n",
        "\n",
        "  return meld_score\n"
      ],
      "execution_count": 0,
      "outputs": []
    },
    {
      "cell_type": "markdown",
      "metadata": {
        "id": "kxkhZFPn1-xY",
        "colab_type": "text"
      },
      "source": [
        "Calculate MELD score for the following patient:\n",
        "\n",
        "<pre>\n",
        "*   Creatinine       : 1 mg/dl\n",
        "*   Bilirubin        : 2 mg/dL\n",
        "*   INR              : 1.1\n",
        "</pre>"
      ]
    },
    {
      "cell_type": "code",
      "metadata": {
        "id": "Z11OB7ts1CkA",
        "colab_type": "code",
        "colab": {
          "base_uri": "https://localhost:8080/",
          "height": 34
        },
        "outputId": "624679df-397e-4110-c651-ba8d89015958"
      },
      "source": [
        "# Compute MELD score\n",
        "tmp_meld_score= liver_disease_mortality(1.0, 2.0, 1.1 )\n",
        "print(f\"The patient's MELD score is: {tmp_meld_score:.2f}\")"
      ],
      "execution_count": 13,
      "outputs": [
        {
          "output_type": "stream",
          "text": [
            "The patient's MELD score is: 10.12\n"
          ],
          "name": "stdout"
        }
      ]
    },
    {
      "cell_type": "markdown",
      "metadata": {
        "id": "_9BD_rZq5zFV",
        "colab_type": "text"
      },
      "source": [
        "## Calculating ASCVD Risk Score for Heart Disease\n",
        "\n",
        "Coefficients for this function:\n",
        "\n",
        "<pre>\n",
        "*  Ln(Age):                                     17.114\n",
        "*   Ln(total cholesterol):                      0.94\n",
        "*   Ln(HDL):                                   -18.920\n",
        "*   Ln(Age) x Ln(HDL-C):                        4.475\n",
        "*   Ln (Untreated systolic BP):                 27.820\n",
        "*   Ln (Age) x Ln 10 (Untreated systolic BP):   -6.087\n",
        "*   Current smoker (1 or 0):                    0.691\n",
        "*   Diabetes (1 or 0):                          0 874\n",
        "\n",
        "</pre>\n",
        "\n",
        "Remember that after you calculate the sum of the products (of inputs and coefficients), use this formula to get the risk score:\n",
        "\n",
        "$$Risk = 1 - 0.9533^{e^{sumProd - 86.61}}$$\n",
        "\n",
        "This is 0.9533 raised to the power of this expression: $e^{sumProd - 86.61}$, and not 0.9533 multiplied by that exponential."
      ]
    },
    {
      "cell_type": "code",
      "metadata": {
        "id": "Zf_2i9JM2mlg",
        "colab_type": "code",
        "colab": {}
      },
      "source": [
        "def ascvd(x_age,\n",
        "          x_cho,\n",
        "          x_hdl,\n",
        "          x_sbp,\n",
        "          x_smo,\n",
        "          x_dia,\n",
        "          verbose=False):\n",
        "  \"\"\"\n",
        "  Atherosclerotic Cardiovascular Diseas\n",
        "  (ASCVD) Risk Estimator Plus\n",
        "  \"\"\"\n",
        "\n",
        "  # Define Coefficients\n",
        "  b_age = 17.114\n",
        "  b_cho = 0.94\n",
        "  b_hdl = -18.92\n",
        "  b_age_hdl = 4.475\n",
        "  b_sbp = 27.82\n",
        "  b_age_sbp = -6.087\n",
        "  b_smo = 0.691\n",
        "  b_dia = 0.874\n",
        "\n",
        "  # Calculate the sum of products of inputs and coefficients\n",
        "  sum_prod = b_age * np.log(x_age) +\\\n",
        "             b_cho * np.log(x_cho) +\\\n",
        "             b_hdl * np.log(x_hdl) +\\\n",
        "             b_age_hdl * np.log(x_age) * np.log(x_hdl) +\\\n",
        "                b_sbp * np.log(x_sbp) +\\\n",
        "                b_age_sbp * np.log(x_age) * np.log(x_sbp) +\\\n",
        "                b_smo * x_smo + \\\n",
        "                b_dia * x_dia\n",
        "    \n",
        "  if verbose:\n",
        "      print(f\"np.log(x_age):{np.log(x_age):.2f}\")\n",
        "      print(f\"np.log(x_cho):{np.log(x_cho):.2f}\")\n",
        "      print(f\"np.log(x_hdl):{np.log(x_hdl):.2f}\")\n",
        "      print(f\"np.log(x_age) * np.log(x_hdl):{np.log(x_age) * np.log(x_hdl):.2f}\")\n",
        "      print(f\"np.log(x_sbp): {np.log(x_sbp):2f}\")\n",
        "      print(f\"np.log(x_age) * np.log(x_sbp): {np.log(x_age) * np.log(x_sbp):.2f}\")\n",
        "      print(f\"sum_prod {sum_prod:.2f}\")\n",
        "      \n",
        "  # TODO: Risk Score = 1 - (0.9533^( e^(sum - 86.61) ) )\n",
        "  risk_score = 1 - 0.9533**(np.exp(sum_prod-86.61))\n",
        "  \n",
        "  return risk_score\n",
        "\n",
        "\n",
        "  \n"
      ],
      "execution_count": 0,
      "outputs": []
    },
    {
      "cell_type": "code",
      "metadata": {
        "id": "o4LKRB7b98uU",
        "colab_type": "code",
        "colab": {
          "base_uri": "https://localhost:8080/",
          "height": 170
        },
        "outputId": "6a3602f0-1308-434b-89cb-4b56980033ad"
      },
      "source": [
        "tmp_risk_score = ascvd(x_age=55,\n",
        "                      x_cho=213,\n",
        "                      x_hdl=50,\n",
        "                      x_sbp=120,\n",
        "                      x_smo=0,\n",
        "                      x_dia=0, \n",
        "                      verbose=True\n",
        "                      )\n",
        "print(f\"\\npatient's ascvd risk score is {tmp_risk_score:.2f}\")"
      ],
      "execution_count": 16,
      "outputs": [
        {
          "output_type": "stream",
          "text": [
            "np.log(x_age):4.01\n",
            "np.log(x_cho):5.36\n",
            "np.log(x_hdl):3.91\n",
            "np.log(x_age) * np.log(x_hdl):15.68\n",
            "np.log(x_sbp): 4.787492\n",
            "np.log(x_age) * np.log(x_sbp): 19.19\n",
            "sum_prod 86.17\n",
            "\n",
            "patient's ascvd risk score is 0.03\n"
          ],
          "name": "stdout"
        }
      ]
    },
    {
      "cell_type": "markdown",
      "metadata": {
        "id": "L_1RTsu6-H2P",
        "colab_type": "text"
      },
      "source": [
        "## Numpy and Pandas Operations\n",
        "\n",
        "Here we will compare how pandas and numpy functions are slightly different. "
      ]
    },
    {
      "cell_type": "code",
      "metadata": {
        "id": "1IdInjmB-B-R",
        "colab_type": "code",
        "colab": {}
      },
      "source": [
        "import pandas as pd\n",
        "import numpy as np\n",
        "import sklearn"
      ],
      "execution_count": 0,
      "outputs": []
    },
    {
      "cell_type": "code",
      "metadata": {
        "id": "pS70jqEB-gLq",
        "colab_type": "code",
        "colab": {}
      },
      "source": [
        "# Functions to generate data\n",
        "import sklearn\n",
        "\n",
        "\n",
        "def generate_data(n=200):\n",
        "    df = pd.DataFrame(\n",
        "        columns=['Age', 'Systolic_BP', 'Diastolic_BP', 'Cholesterol']\n",
        "    )\n",
        "    df.loc[:, 'Age'] = np.exp(np.log(60) + (1 / 7) * np.random.normal(size=n))\n",
        "    df.loc[:, ['Systolic_BP', 'Diastolic_BP', 'Cholesterol']] = np.exp(\n",
        "        np.random.multivariate_normal(\n",
        "            mean=[np.log(100), np.log(90), np.log(100)],\n",
        "            cov=(1 / 45) * np.array([\n",
        "                [0.5, 0.2, 0.2],\n",
        "                [0.2, 0.5, 0.2],\n",
        "                [0.2, 0.2, 0.5]]),\n",
        "            size=n))\n",
        "    return df\n",
        "\n"
      ],
      "execution_count": 0,
      "outputs": []
    },
    {
      "cell_type": "code",
      "metadata": {
        "id": "ozMXtdyA-sjT",
        "colab_type": "code",
        "colab": {}
      },
      "source": [
        "def f(x):\n",
        "    p = 0.4 * (np.log(x[0]) - np.log(60)) + 0.33 * (\n",
        "            np.log(x[1]) - np.log(100)) + 0.3 * (\n",
        "                np.log(x[3]) - np.log(100)) - 2.0 * (\n",
        "                np.log(x[0]) - np.log(60)) * (\n",
        "                np.log(x[3]) - np.log(100)) + 0.05 * np.random.logistic()\n",
        "    if p > 0.0:\n",
        "        return 1.0\n",
        "    else:\n",
        "        return 0.0"
      ],
      "execution_count": 0,
      "outputs": []
    },
    {
      "cell_type": "code",
      "metadata": {
        "id": "yrHRICSo-u5J",
        "colab_type": "code",
        "colab": {}
      },
      "source": [
        "def sigmoid(x):\n",
        "    return 1 / (1 + np.exp(-x))"
      ],
      "execution_count": 0,
      "outputs": []
    },
    {
      "cell_type": "code",
      "metadata": {
        "id": "B1Y_QHqv-w_U",
        "colab_type": "code",
        "colab": {}
      },
      "source": [
        "def load_data(n=200):\n",
        "    np.random.seed(0)\n",
        "    df = generate_data(n)\n",
        "    for i in range(len(df)):\n",
        "        df.loc[i, 'y'] = f(df.loc[i, :])\n",
        "        X = df.drop('y', axis=1)\n",
        "        y = df.y\n",
        "    return X, y"
      ],
      "execution_count": 0,
      "outputs": []
    },
    {
      "cell_type": "code",
      "metadata": {
        "id": "TburXt0E-zsl",
        "colab_type": "code",
        "colab": {}
      },
      "source": [
        "# Generate data, features (X) and labels (y)\n",
        "\n",
        "X, y = load_data(100)"
      ],
      "execution_count": 0,
      "outputs": []
    },
    {
      "cell_type": "code",
      "metadata": {
        "id": "MQcYBIwO_EZn",
        "colab_type": "code",
        "colab": {
          "base_uri": "https://localhost:8080/",
          "height": 204
        },
        "outputId": "598ca6ef-8c5e-4806-f167-63ed5c883354"
      },
      "source": [
        "# Explore features\n",
        "X.head()"
      ],
      "execution_count": 25,
      "outputs": [
        {
          "output_type": "execute_result",
          "data": {
            "text/html": [
              "<div>\n",
              "<style scoped>\n",
              "    .dataframe tbody tr th:only-of-type {\n",
              "        vertical-align: middle;\n",
              "    }\n",
              "\n",
              "    .dataframe tbody tr th {\n",
              "        vertical-align: top;\n",
              "    }\n",
              "\n",
              "    .dataframe thead th {\n",
              "        text-align: right;\n",
              "    }\n",
              "</style>\n",
              "<table border=\"1\" class=\"dataframe\">\n",
              "  <thead>\n",
              "    <tr style=\"text-align: right;\">\n",
              "      <th></th>\n",
              "      <th>Age</th>\n",
              "      <th>Systolic_BP</th>\n",
              "      <th>Diastolic_BP</th>\n",
              "      <th>Cholesterol</th>\n",
              "    </tr>\n",
              "  </thead>\n",
              "  <tbody>\n",
              "    <tr>\n",
              "      <th>0</th>\n",
              "      <td>77.196340</td>\n",
              "      <td>78.379387</td>\n",
              "      <td>86.862625</td>\n",
              "      <td>83.344731</td>\n",
              "    </tr>\n",
              "    <tr>\n",
              "      <th>1</th>\n",
              "      <td>63.529850</td>\n",
              "      <td>85.439716</td>\n",
              "      <td>77.288707</td>\n",
              "      <td>107.483614</td>\n",
              "    </tr>\n",
              "    <tr>\n",
              "      <th>2</th>\n",
              "      <td>69.003986</td>\n",
              "      <td>98.406978</td>\n",
              "      <td>85.411057</td>\n",
              "      <td>118.495893</td>\n",
              "    </tr>\n",
              "    <tr>\n",
              "      <th>3</th>\n",
              "      <td>82.638210</td>\n",
              "      <td>100.362697</td>\n",
              "      <td>71.119650</td>\n",
              "      <td>87.737132</td>\n",
              "    </tr>\n",
              "    <tr>\n",
              "      <th>4</th>\n",
              "      <td>78.346286</td>\n",
              "      <td>121.854369</td>\n",
              "      <td>92.013270</td>\n",
              "      <td>99.121558</td>\n",
              "    </tr>\n",
              "  </tbody>\n",
              "</table>\n",
              "</div>"
            ],
            "text/plain": [
              "         Age  Systolic_BP  Diastolic_BP  Cholesterol\n",
              "0  77.196340    78.379387     86.862625    83.344731\n",
              "1  63.529850    85.439716     77.288707   107.483614\n",
              "2  69.003986    98.406978     85.411057   118.495893\n",
              "3  82.638210   100.362697     71.119650    87.737132\n",
              "4  78.346286   121.854369     92.013270    99.121558"
            ]
          },
          "metadata": {
            "tags": []
          },
          "execution_count": 25
        }
      ]
    },
    {
      "cell_type": "code",
      "metadata": {
        "id": "FR5-V5bf_XMc",
        "colab_type": "code",
        "colab": {
          "base_uri": "https://localhost:8080/",
          "height": 119
        },
        "outputId": "14187d1a-42d6-4d46-cc1f-b795d58ab8ff"
      },
      "source": [
        "# Explore labels\n",
        "y.head()"
      ],
      "execution_count": 26,
      "outputs": [
        {
          "output_type": "execute_result",
          "data": {
            "text/plain": [
              "0    0.0\n",
              "1    0.0\n",
              "2    1.0\n",
              "3    1.0\n",
              "4    1.0\n",
              "Name: y, dtype: float64"
            ]
          },
          "metadata": {
            "tags": []
          },
          "execution_count": 26
        }
      ]
    },
    {
      "cell_type": "markdown",
      "metadata": {
        "id": "tbLRXtSh_cFx",
        "colab_type": "text"
      },
      "source": [
        "## How does *mean* differ from pandas and numpy?\n",
        "\n",
        "Even though numpy and pandas are widely used to calculate the mean without major implications, we'll see that they slightly differ. \n",
        "\n",
        "### Pandas.Dataframe.mean\n",
        "\n",
        "Apply the **mean** to the pandas DF.\n"
      ]
    },
    {
      "cell_type": "code",
      "metadata": {
        "id": "RcyVJPIz_ZRe",
        "colab_type": "code",
        "colab": {
          "base_uri": "https://localhost:8080/",
          "height": 255
        },
        "outputId": "ea496c9c-1d07-4d50-ba84-18e7f7689da2"
      },
      "source": [
        "# Apply the mean to the DF without choosing an axis\n",
        "\n",
        "print(f\"Pandas: X_mean()=\\n {X.mean()}\\n\")\n",
        "\n",
        "# Apply the mean function to axis=0\n",
        "\n",
        "print(f\"Pandas: X.mean()=\\n {X.mean(axis=0)}\\n\")"
      ],
      "execution_count": 29,
      "outputs": [
        {
          "output_type": "stream",
          "text": [
            "Pandas: X_mean()=\n",
            " Age              61.145103\n",
            "Systolic_BP      99.762232\n",
            "Diastolic_BP     91.147442\n",
            "Cholesterol     100.925003\n",
            "dtype: float64\n",
            "\n",
            "Pandas: X.mean()=\n",
            " Age              61.145103\n",
            "Systolic_BP      99.762232\n",
            "Diastolic_BP     91.147442\n",
            "Cholesterol     100.925003\n",
            "dtype: float64\n",
            "\n"
          ],
          "name": "stdout"
        }
      ]
    },
    {
      "cell_type": "markdown",
      "metadata": {
        "id": "ZQbBt9UZAzzj",
        "colab_type": "text"
      },
      "source": [
        "For pandas DFs, by default:\n",
        "*   Pandas treats every column separetely\n",
        "*   We can also explicitly instruct the function to calculate the mean for each column by setting axis=0\n",
        "*   Same result, for both cases\n",
        "\n",
        "### Np.array.mean()\n",
        "\n",
        "Compare to what happens when we call ```np.mean()``` and the data is stored in a numpy array:"
      ]
    },
    {
      "cell_type": "code",
      "metadata": {
        "id": "8G8Fuw3CAkCj",
        "colab_type": "code",
        "colab": {
          "base_uri": "https://localhost:8080/",
          "height": 68
        },
        "outputId": "c4d340fa-835f-4534-fff1-6104d6bfb473"
      },
      "source": [
        "# Store data into a np.array\n",
        "X_np = np.array(X)\n",
        "\n",
        "# View first two rows of the array\n",
        "print(f\"First two rows of the array: \\n {X_np[0:2,:]}\")"
      ],
      "execution_count": 52,
      "outputs": [
        {
          "output_type": "stream",
          "text": [
            "First two rows of the array: \n",
            " [[ 77.19633951  78.37938696  86.86262497  83.344731  ]\n",
            " [ 63.52985022  85.43971583  77.28870706 107.48361434]]\n"
          ],
          "name": "stdout"
        }
      ]
    },
    {
      "cell_type": "code",
      "metadata": {
        "id": "4Nv5SjnuB0Jm",
        "colab_type": "code",
        "colab": {
          "base_uri": "https://localhost:8080/",
          "height": 102
        },
        "outputId": "284ec748-cab3-4bdf-b130-3cd1f8254744"
      },
      "source": [
        "# Apply np.mean function without specifying an axis\n",
        "\n",
        "print(f\"Np.mean: X_np = \\n {X_np.mean()}\\n\")\n",
        "\n",
        "# Apply np.mean on axis=0\n",
        "print(f\"Np.mean: X_np = \\n {X_np.mean(axis=0)}\")\n"
      ],
      "execution_count": 57,
      "outputs": [
        {
          "output_type": "stream",
          "text": [
            "Np.mean: X_np = \n",
            " 88.24494498174543\n",
            "\n",
            "Np.mean: X_np = \n",
            " [ 61.14510296  99.76223179  91.14744211 100.92500307]\n"
          ],
          "name": "stdout"
        }
      ]
    },
    {
      "cell_type": "markdown",
      "metadata": {
        "id": "bl8UzJoRDyQ9",
        "colab_type": "text"
      },
      "source": [
        "As we can see, np.mean is different from pandas mean\n",
        "*   By default, the mean is calculated for all values in the rows and columns. We get a single mean fro the entire 2D array. \n",
        "*   To explicitly calculate the mean for each column separetely, we must pass ```axis=0```"
      ]
    },
    {
      "cell_type": "code",
      "metadata": {
        "id": "2G7zzwIWDYfZ",
        "colab_type": "code",
        "colab": {
          "base_uri": "https://localhost:8080/",
          "height": 221
        },
        "outputId": "43b28c4a-01bf-4e50-dded-216232e53e72"
      },
      "source": [
        "X.mean(axis=1)"
      ],
      "execution_count": 60,
      "outputs": [
        {
          "output_type": "execute_result",
          "data": {
            "text/plain": [
              "0     81.445771\n",
              "1     83.435472\n",
              "2     92.829479\n",
              "3     85.464422\n",
              "4     97.833871\n",
              "        ...    \n",
              "95    99.541948\n",
              "96    78.501428\n",
              "97    93.142468\n",
              "98    89.697351\n",
              "99    82.368333\n",
              "Length: 100, dtype: float64"
            ]
          },
          "metadata": {
            "tags": []
          },
          "execution_count": 60
        }
      ]
    },
    {
      "cell_type": "code",
      "metadata": {
        "id": "6R6c35qIEd-n",
        "colab_type": "code",
        "colab": {
          "base_uri": "https://localhost:8080/",
          "height": 442
        },
        "outputId": "5839a073-db7f-4910-f80d-c149337b707c"
      },
      "source": [
        "X_np.mean(axis=1)"
      ],
      "execution_count": 61,
      "outputs": [
        {
          "output_type": "execute_result",
          "data": {
            "text/plain": [
              "array([ 81.44577061,  83.43547186,  92.82947865,  85.464422  ,\n",
              "        97.83387051,  81.072484  ,  86.33561313,  94.38186756,\n",
              "        91.44869879,  78.38641822,  92.52497797,  90.8918213 ,\n",
              "        85.94232312,  94.68155003,  88.35523072,  83.09195724,\n",
              "        99.25824219,  77.52898522,  89.02290228,  92.41751773,\n",
              "        86.62106654,  88.65527054,  96.03359073,  84.3332454 ,\n",
              "        88.26611326,  80.68750509,  90.3045462 ,  95.77564576,\n",
              "        87.57002631,  91.09832685,  95.93260142,  95.63631552,\n",
              "        82.02753088,  76.26296263,  80.74083167,  97.99643525,\n",
              "        88.92994246,  88.52346543,  92.47975217,  85.24978965,\n",
              "        91.22361032,  82.02097648,  83.30132681,  93.73320268,\n",
              "        89.72061507,  82.43749193,  82.59658942,  91.60508423,\n",
              "        86.646893  ,  80.88167   ,  82.68046158,  90.5062123 ,\n",
              "        90.87729272,  81.60945765,  91.07059764,  87.41581228,\n",
              "        89.58799871, 107.2683618 ,  90.24279104,  88.28334728,\n",
              "        86.89579322,  78.3310002 ,  92.70042337,  76.84555399,\n",
              "        75.43938321,  80.34528049,  86.77607515,  79.283573  ,\n",
              "        81.76743107,  96.12456335,  90.06997691,  92.23008577,\n",
              "        90.37563428,  85.62693336,  86.70929512,  88.71628396,\n",
              "        90.35674634,  93.76157435, 104.51663253,  85.43348328,\n",
              "        79.06608031,  97.05374439,  90.85137122,  82.4440306 ,\n",
              "        83.33752865,  95.38564856,  93.37566333,  87.30300878,\n",
              "        85.45630778,  92.23226911,  85.19588081,  91.95073221,\n",
              "        84.28094372,  84.86918158, 102.95049616,  99.54194818,\n",
              "        78.5014281 ,  93.14246839,  89.69735075,  82.36833272])"
            ]
          },
          "metadata": {
            "tags": []
          },
          "execution_count": 61
        }
      ]
    },
    {
      "cell_type": "code",
      "metadata": {
        "id": "cQQuFLI8Enw5",
        "colab_type": "code",
        "colab": {}
      },
      "source": [
        ""
      ],
      "execution_count": 0,
      "outputs": []
    }
  ]
}