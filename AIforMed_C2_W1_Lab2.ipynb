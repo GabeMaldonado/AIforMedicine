{
  "nbformat": 4,
  "nbformat_minor": 0,
  "metadata": {
    "colab": {
      "name": "AIforMed_C2_W1_Lab2.ipynb",
      "provenance": [],
      "authorship_tag": "ABX9TyPRS608ER/AukhnrVgLUX7B",
      "include_colab_link": true
    },
    "kernelspec": {
      "name": "python3",
      "display_name": "Python 3"
    }
  },
  "cells": [
    {
      "cell_type": "markdown",
      "metadata": {
        "id": "view-in-github",
        "colab_type": "text"
      },
      "source": [
        "<a href=\"https://colab.research.google.com/github/GabeMaldonado/AIforMedicine/blob/master/AIforMed_C2_W1_Lab2.ipynb\" target=\"_parent\"><img src=\"https://colab.research.google.com/assets/colab-badge.svg\" alt=\"Open In Colab\"/></a>"
      ]
    },
    {
      "cell_type": "markdown",
      "metadata": {
        "id": "-TE8qmSzvebI",
        "colab_type": "text"
      },
      "source": [
        "# Calculating Risk Scores Using Python\n"
      ]
    },
    {
      "cell_type": "code",
      "metadata": {
        "id": "_rNMhkttvl5b",
        "colab_type": "code",
        "colab": {}
      },
      "source": [
        ""
      ],
      "execution_count": 0,
      "outputs": []
    }
  ]
}