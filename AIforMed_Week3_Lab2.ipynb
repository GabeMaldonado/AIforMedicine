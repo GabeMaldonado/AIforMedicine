{
  "nbformat": 4,
  "nbformat_minor": 0,
  "metadata": {
    "colab": {
      "name": "AIforMed_Week3_Lab2.ipynb",
      "provenance": [],
      "collapsed_sections": [],
      "authorship_tag": "ABX9TyP9W41P9tUB5OAVQy7XgCH1",
      "include_colab_link": true
    },
    "kernelspec": {
      "name": "python3",
      "display_name": "Python 3"
    }
  },
  "cells": [
    {
      "cell_type": "markdown",
      "metadata": {
        "id": "view-in-github",
        "colab_type": "text"
      },
      "source": [
        "<a href=\"https://colab.research.google.com/github/GabeMaldonado/AIforMedicine/blob/master/AIforMed_Week3_Lab2.ipynb\" target=\"_parent\"><img src=\"https://colab.research.google.com/assets/colab-badge.svg\" alt=\"Open In Colab\"/></a>"
      ]
    },
    {
      "cell_type": "markdown",
      "metadata": {
        "id": "E4du4nKLdXMw",
        "colab_type": "text"
      },
      "source": [
        "# Exctracting Sub Volumes \n",
        "\n",
        "As we learn before, it is not possible to pass the entire MRI image into the model. We need to extract sub volumes of the data to then feed the model. \n",
        "In this Lab we will extract a small \"cube\" from the image. We will perform the extraction using a 1D np array as an image."
      ]
    },
    {
      "cell_type": "code",
      "metadata": {
        "id": "GOC4skzpe_ER",
        "colab_type": "code",
        "colab": {}
      },
      "source": [
        "import numpy as np"
      ],
      "execution_count": 0,
      "outputs": []
    },
    {
      "cell_type": "code",
      "metadata": {
        "id": "GV-iDDMffBS7",
        "colab_type": "code",
        "colab": {
          "base_uri": "https://localhost:8080/",
          "height": 34
        },
        "outputId": "01a64fa8-3314-4b47-8d41-da6b67d6fd91"
      },
      "source": [
        "# Create np.array representing the image\n",
        "image = np.array([10, 11, 12, 13, 14, 15])\n",
        "image"
      ],
      "execution_count": 2,
      "outputs": [
        {
          "output_type": "execute_result",
          "data": {
            "text/plain": [
              "array([10, 11, 12, 13, 14, 15])"
            ]
          },
          "metadata": {
            "tags": []
          },
          "execution_count": 2
        }
      ]
    },
    {
      "cell_type": "code",
      "metadata": {
        "id": "ZsPIpLGPfUyR",
        "colab_type": "code",
        "colab": {
          "base_uri": "https://localhost:8080/",
          "height": 34
        },
        "outputId": "75bc3098-4159-4400-c7e2-1da0149de55a"
      },
      "source": [
        "# Compute dimensions of the image\n",
        "image_length = image.shape[0]\n",
        "image_length"
      ],
      "execution_count": 3,
      "outputs": [
        {
          "output_type": "execute_result",
          "data": {
            "text/plain": [
              "6"
            ]
          },
          "metadata": {
            "tags": []
          },
          "execution_count": 3
        }
      ]
    },
    {
      "cell_type": "markdown",
      "metadata": {
        "id": "wAvsglmafpzg",
        "colab_type": "text"
      },
      "source": [
        "## Sub Volumes\n",
        "We need to define a \"patch_length\" which will be the size of the sub volume to be extracted."
      ]
    },
    {
      "cell_type": "code",
      "metadata": {
        "id": "M37jIubJfgti",
        "colab_type": "code",
        "colab": {}
      },
      "source": [
        "# Define patch length\n",
        "patch_length = 3"
      ],
      "execution_count": 0,
      "outputs": []
    },
    {
      "cell_type": "markdown",
      "metadata": {
        "id": "UkENVPmIgRdE",
        "colab_type": "text"
      },
      "source": [
        "To extract a patch/sub volume that is the size if ```patch_length``` we need to define an index at which to start the patch. "
      ]
    },
    {
      "cell_type": "code",
      "metadata": {
        "id": "QbSZPuIsgQh-",
        "colab_type": "code",
        "colab": {}
      },
      "source": [
        "# Define start index\n",
        "start_i = 0"
      ],
      "execution_count": 0,
      "outputs": []
    },
    {
      "cell_type": "code",
      "metadata": {
        "id": "P8ioOnW8gjvW",
        "colab_type": "code",
        "colab": {
          "base_uri": "https://localhost:8080/",
          "height": 68
        },
        "outputId": "afb9f065-137e-4d49-c5ba-d2160504173f"
      },
      "source": [
        "# Increase index by 1\n",
        "\n",
        "print(f\"Start index: {start_i}\")\n",
        "end_i = start_i + patch_length\n",
        "print(f\"End index: {end_i}\")\n",
        "\n",
        "# Extract sub volume from the image\n",
        "sub_section = image[start_i:end_i]\n",
        "print(sub_section)\n",
        "\n",
        "# Increase index by 1\n",
        "start_i += 1"
      ],
      "execution_count": 7,
      "outputs": [
        {
          "output_type": "stream",
          "text": [
            "Start index: 0\n",
            "End index: 3\n",
            "[10 11 12]\n"
          ],
          "name": "stdout"
        }
      ]
    },
    {
      "cell_type": "markdown",
      "metadata": {
        "id": "ChyisQs8q99J",
        "colab_type": "text"
      },
      "source": [
        "If run the above cell multiple times, we will see that the sub volume being returned is will no longer be of ```patch_length``` size. This will create a problem as the neural network/model would only accept sub volumes of a particular size and dimension. \n",
        "*Start indices* are normally selected randomly so we need to ensure that the random number generator is set up to avoid the edges of the image object. \n"
      ]
    },
    {
      "cell_type": "code",
      "metadata": {
        "id": "9ZxXg4n1q3q0",
        "colab_type": "code",
        "colab": {
          "base_uri": "https://localhost:8080/",
          "height": 68
        },
        "outputId": "aca1b9a1-cd3a-4bec-9c6b-4ceb5c331305"
      },
      "source": [
        "# Start index to 3 and select a valid patch\n",
        "\n",
        "start_i = 3 \n",
        "print(f\"Start index: {start_i}\")\n",
        "\n",
        "end_i = start_i + patch_length\n",
        "print(f\"End index: {end_i}\")\n",
        "\n",
        "sub_section = image[start_i:end_i]\n",
        "print(sub_section)"
      ],
      "execution_count": 8,
      "outputs": [
        {
          "output_type": "stream",
          "text": [
            "Start index: 3\n",
            "End index: 6\n",
            "[13 14 15]\n"
          ],
          "name": "stdout"
        }
      ]
    },
    {
      "cell_type": "code",
      "metadata": {
        "id": "2ktzHvwesWHO",
        "colab_type": "code",
        "colab": {
          "base_uri": "https://localhost:8080/",
          "height": 34
        },
        "outputId": "26b025c4-0371-456f-b8ab-4a7712c6c377"
      },
      "source": [
        "# Compute and print the largest valid value for a start index\n",
        "print(f\"The largests start index for which \"\n",
        "      f\"a subsection is still valid is \"\n",
        "      f\"{image_length - patch_length}\")"
      ],
      "execution_count": 10,
      "outputs": [
        {
          "output_type": "stream",
          "text": [
            "The largests start index for which a subsection is still valid is 3\n"
          ],
          "name": "stdout"
        }
      ]
    },
    {
      "cell_type": "code",
      "metadata": {
        "id": "sZZQkMZ9s7Gw",
        "colab_type": "code",
        "colab": {
          "base_uri": "https://localhost:8080/",
          "height": 51
        },
        "outputId": "d5f767cd-9870-411b-d8fb-297952e02dfb"
      },
      "source": [
        "# Compute and print the range of valid start indices\n",
        "\n",
        "print(f\"The range of valid start indices:\")\n",
        "\n",
        "# Compute valid start indices, include upper bound\n",
        "valid_start_i = [i for i in range(image_length - patch_length + 1)]\n",
        "print(valid_start_i)"
      ],
      "execution_count": 11,
      "outputs": [
        {
          "output_type": "stream",
          "text": [
            "The range of valid start indices:\n",
            "[0, 1, 2, 3]\n"
          ],
          "name": "stdout"
        }
      ]
    },
    {
      "cell_type": "markdown",
      "metadata": {
        "id": "QP0kx1jfu2T4",
        "colab_type": "text"
      },
      "source": [
        "## Random Selection of Start Indices\n",
        "\n",
        "Selecting a random integer for the start index for our 1D image.\n",
        "\n",
        "\n"
      ]
    },
    {
      "cell_type": "code",
      "metadata": {
        "id": "dJWG6EcrtmHT",
        "colab_type": "code",
        "colab": {
          "base_uri": "https://localhost:8080/",
          "height": 34
        },
        "outputId": "b01d32dd-9f3a-4c5e-dc92-b7f5b135e766"
      },
      "source": [
        "# Choose a random int for the start index\n",
        "start_i = np.random.randint(image_length - patch_length + 1)\n",
        "print(f\"Randomly selected start index: {start_i}\")\n"
      ],
      "execution_count": 13,
      "outputs": [
        {
          "output_type": "stream",
          "text": [
            "Randomly selected start index: 3\n"
          ],
          "name": "stdout"
        }
      ]
    },
    {
      "cell_type": "code",
      "metadata": {
        "id": "QkGBIM5VwExF",
        "colab_type": "code",
        "colab": {
          "base_uri": "https://localhost:8080/",
          "height": 187
        },
        "outputId": "3b92663b-3863-4b15-e9e4-38fd0d91eee7"
      },
      "source": [
        "# Randomly select multiple start indices in a loop\n",
        "\n",
        "for _ in range(10):\n",
        "  start_i = np.random.randint(image_length - patch_length +1)\n",
        "  print(f\"Randomly selected start index: {start_i}\")"
      ],
      "execution_count": 14,
      "outputs": [
        {
          "output_type": "stream",
          "text": [
            "Randomly selected start index: 1\n",
            "Randomly selected start index: 1\n",
            "Randomly selected start index: 2\n",
            "Randomly selected start index: 1\n",
            "Randomly selected start index: 2\n",
            "Randomly selected start index: 0\n",
            "Randomly selected start index: 1\n",
            "Randomly selected start index: 1\n",
            "Randomly selected start index: 3\n",
            "Randomly selected start index: 2\n"
          ],
          "name": "stdout"
        }
      ]
    },
    {
      "cell_type": "code",
      "metadata": {
        "id": "VwBcM_CWwie3",
        "colab_type": "code",
        "colab": {}
      },
      "source": [
        ""
      ],
      "execution_count": 0,
      "outputs": []
    }
  ]
}