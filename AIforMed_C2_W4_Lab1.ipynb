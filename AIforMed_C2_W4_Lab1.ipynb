{
  "nbformat": 4,
  "nbformat_minor": 0,
  "metadata": {
    "colab": {
      "name": "AIforMed_C2_W4_Lab1.ipynb",
      "provenance": [],
      "collapsed_sections": [],
      "authorship_tag": "ABX9TyNbU79QVLkt11Mjf2DskLdP",
      "include_colab_link": true
    },
    "kernelspec": {
      "name": "python3",
      "display_name": "Python 3"
    }
  },
  "cells": [
    {
      "cell_type": "markdown",
      "metadata": {
        "id": "view-in-github",
        "colab_type": "text"
      },
      "source": [
        "<a href=\"https://colab.research.google.com/github/GabeMaldonado/AIforMedicine/blob/master/AIforMed_C2_W4_Lab1.ipynb\" target=\"_parent\"><img src=\"https://colab.research.google.com/assets/colab-badge.svg\" alt=\"Open In Colab\"/></a>"
      ]
    },
    {
      "cell_type": "markdown",
      "metadata": {
        "id": "uQ5Vdfogz2db",
        "colab_type": "text"
      },
      "source": [
        "# Categorical Variables and One-hot Encoding\n",
        "\n"
      ]
    },
    {
      "cell_type": "code",
      "metadata": {
        "id": "vrGveNDU0Hxx",
        "colab_type": "code",
        "colab": {}
      },
      "source": [
        "import pandas as pd"
      ],
      "execution_count": 0,
      "outputs": []
    },
    {
      "cell_type": "code",
      "metadata": {
        "id": "NJNqZsBd0Jjf",
        "colab_type": "code",
        "colab": {
          "base_uri": "https://localhost:8080/",
          "height": 173
        },
        "outputId": "ced4240e-9c9c-42c9-90f1-3c4f9735dcb4"
      },
      "source": [
        "# Create an example dataframe\n",
        "\n",
        "df = pd.DataFrame({'ascites' : [0,1, 0, 1 ],\n",
        "                   'edema' : [0.5, 0, 1, 0.5],\n",
        "                   'stage' : [3, 4, 3, 4],\n",
        "                   'cholesterol' : [200.5,180.2,190.5,210.3]}\n",
        "                  )\n",
        "df"
      ],
      "execution_count": 3,
      "outputs": [
        {
          "output_type": "execute_result",
          "data": {
            "text/html": [
              "<div>\n",
              "<style scoped>\n",
              "    .dataframe tbody tr th:only-of-type {\n",
              "        vertical-align: middle;\n",
              "    }\n",
              "\n",
              "    .dataframe tbody tr th {\n",
              "        vertical-align: top;\n",
              "    }\n",
              "\n",
              "    .dataframe thead th {\n",
              "        text-align: right;\n",
              "    }\n",
              "</style>\n",
              "<table border=\"1\" class=\"dataframe\">\n",
              "  <thead>\n",
              "    <tr style=\"text-align: right;\">\n",
              "      <th></th>\n",
              "      <th>ascites</th>\n",
              "      <th>edema</th>\n",
              "      <th>stage</th>\n",
              "      <th>cholesterol</th>\n",
              "    </tr>\n",
              "  </thead>\n",
              "  <tbody>\n",
              "    <tr>\n",
              "      <th>0</th>\n",
              "      <td>0</td>\n",
              "      <td>0.5</td>\n",
              "      <td>3</td>\n",
              "      <td>200.5</td>\n",
              "    </tr>\n",
              "    <tr>\n",
              "      <th>1</th>\n",
              "      <td>1</td>\n",
              "      <td>0.0</td>\n",
              "      <td>4</td>\n",
              "      <td>180.2</td>\n",
              "    </tr>\n",
              "    <tr>\n",
              "      <th>2</th>\n",
              "      <td>0</td>\n",
              "      <td>1.0</td>\n",
              "      <td>3</td>\n",
              "      <td>190.5</td>\n",
              "    </tr>\n",
              "    <tr>\n",
              "      <th>3</th>\n",
              "      <td>1</td>\n",
              "      <td>0.5</td>\n",
              "      <td>4</td>\n",
              "      <td>210.3</td>\n",
              "    </tr>\n",
              "  </tbody>\n",
              "</table>\n",
              "</div>"
            ],
            "text/plain": [
              "   ascites  edema  stage  cholesterol\n",
              "0        0    0.5      3        200.5\n",
              "1        1    0.0      4        180.2\n",
              "2        0    1.0      3        190.5\n",
              "3        1    0.5      4        210.3"
            ]
          },
          "metadata": {
            "tags": []
          },
          "execution_count": 3
        }
      ]
    },
    {
      "cell_type": "markdown",
      "metadata": {
        "id": "BwAMpwfL1RW-",
        "colab_type": "text"
      },
      "source": [
        "In this small example dataframe we can see three categorical variables: \n",
        "*   'ascites' -- its values are either 0 and 1\n",
        "*   'edema' -- it's values are either 0, 0.5 or 1 \n",
        "*   'stage' -- it's values are either 3 or 4\n",
        "\n",
        "'Cholesterol' is not a categorical variable, it is a continous variable and it can be any number greater than 0.\n",
        "\n",
        "### Which categorical variables to one-hot encode?\n",
        "We can see that:\n",
        "*    Ascites' values are already either 1 or 0 so there is no need to one-hot encode it. 1 means a disease is present and 0 means no disease. \n",
        "*   Edema, (swelling in any part of the body), has 3 categories represented by the values of 0, 0.5 and 1. We can one-hot encode this variable so that there is one feature column for each of the possible values:\n",
        "   *   0 -- no edema\n",
        "   *   0.5 -- patient has edema but has not received diuretic treatment \n",
        "   *   1 -- patient has edema despite receiving diuretic treatment -- indicates that the condition can be more severe\n",
        "*   Stage has values of 3 and 4 so this variable can be one-hot encoded and the values can be converted to 0 and 1 for this excersice. Normally the values range from 0 to 4 and they represent:\n",
        "   *   Stage 0 -- patient has no cancer          \n",
        "   *   Stage 1 -- patient has cancer that is limited to a small area of the body, \"early stage cancer\"\n",
        "   *   Stage 2 -- patient's cancer has spread to nearby tissues\n",
        "   *   Stage 3 -- patient's cancer has spread more aggressively \n",
        "   *   Stage 4 -- patient's cancer has spread to distants part of the body, \"metastatic cancer\".\n",
        "\n",
        "To one-hot encode a feature variable we use pandas' `get_dummies()` function and pass the dataframe and the feature/column name as parameters.\n"
      ]
    },
    {
      "cell_type": "code",
      "metadata": {
        "id": "RJgPRpXe05y4",
        "colab_type": "code",
        "colab": {
          "base_uri": "https://localhost:8080/",
          "height": 173
        },
        "outputId": "a2fe5166-6159-4279-89f3-36162f8caef2"
      },
      "source": [
        "# One-hot ecode the 'stage' feature\n",
        "\n",
        "df_stage = pd.get_dummies(data=df, columns=['stage'])\n",
        "df_stage"
      ],
      "execution_count": 5,
      "outputs": [
        {
          "output_type": "execute_result",
          "data": {
            "text/html": [
              "<div>\n",
              "<style scoped>\n",
              "    .dataframe tbody tr th:only-of-type {\n",
              "        vertical-align: middle;\n",
              "    }\n",
              "\n",
              "    .dataframe tbody tr th {\n",
              "        vertical-align: top;\n",
              "    }\n",
              "\n",
              "    .dataframe thead th {\n",
              "        text-align: right;\n",
              "    }\n",
              "</style>\n",
              "<table border=\"1\" class=\"dataframe\">\n",
              "  <thead>\n",
              "    <tr style=\"text-align: right;\">\n",
              "      <th></th>\n",
              "      <th>ascites</th>\n",
              "      <th>edema</th>\n",
              "      <th>cholesterol</th>\n",
              "      <th>stage_3</th>\n",
              "      <th>stage_4</th>\n",
              "    </tr>\n",
              "  </thead>\n",
              "  <tbody>\n",
              "    <tr>\n",
              "      <th>0</th>\n",
              "      <td>0</td>\n",
              "      <td>0.5</td>\n",
              "      <td>200.5</td>\n",
              "      <td>1</td>\n",
              "      <td>0</td>\n",
              "    </tr>\n",
              "    <tr>\n",
              "      <th>1</th>\n",
              "      <td>1</td>\n",
              "      <td>0.0</td>\n",
              "      <td>180.2</td>\n",
              "      <td>0</td>\n",
              "      <td>1</td>\n",
              "    </tr>\n",
              "    <tr>\n",
              "      <th>2</th>\n",
              "      <td>0</td>\n",
              "      <td>1.0</td>\n",
              "      <td>190.5</td>\n",
              "      <td>1</td>\n",
              "      <td>0</td>\n",
              "    </tr>\n",
              "    <tr>\n",
              "      <th>3</th>\n",
              "      <td>1</td>\n",
              "      <td>0.5</td>\n",
              "      <td>210.3</td>\n",
              "      <td>0</td>\n",
              "      <td>1</td>\n",
              "    </tr>\n",
              "  </tbody>\n",
              "</table>\n",
              "</div>"
            ],
            "text/plain": [
              "   ascites  edema  cholesterol  stage_3  stage_4\n",
              "0        0    0.5        200.5        1        0\n",
              "1        1    0.0        180.2        0        1\n",
              "2        0    1.0        190.5        1        0\n",
              "3        1    0.5        210.3        0        1"
            ]
          },
          "metadata": {
            "tags": []
          },
          "execution_count": 5
        }
      ]
    },
    {
      "cell_type": "code",
      "metadata": {
        "id": "Bgl9IE17Fttj",
        "colab_type": "code",
        "colab": {
          "base_uri": "https://localhost:8080/",
          "height": 173
        },
        "outputId": "b4413e5b-5f33-47bd-e25f-3d191be5f7ff"
      },
      "source": [
        "df_stage[['stage_3', 'stage_4']]"
      ],
      "execution_count": 6,
      "outputs": [
        {
          "output_type": "execute_result",
          "data": {
            "text/html": [
              "<div>\n",
              "<style scoped>\n",
              "    .dataframe tbody tr th:only-of-type {\n",
              "        vertical-align: middle;\n",
              "    }\n",
              "\n",
              "    .dataframe tbody tr th {\n",
              "        vertical-align: top;\n",
              "    }\n",
              "\n",
              "    .dataframe thead th {\n",
              "        text-align: right;\n",
              "    }\n",
              "</style>\n",
              "<table border=\"1\" class=\"dataframe\">\n",
              "  <thead>\n",
              "    <tr style=\"text-align: right;\">\n",
              "      <th></th>\n",
              "      <th>stage_3</th>\n",
              "      <th>stage_4</th>\n",
              "    </tr>\n",
              "  </thead>\n",
              "  <tbody>\n",
              "    <tr>\n",
              "      <th>0</th>\n",
              "      <td>1</td>\n",
              "      <td>0</td>\n",
              "    </tr>\n",
              "    <tr>\n",
              "      <th>1</th>\n",
              "      <td>0</td>\n",
              "      <td>1</td>\n",
              "    </tr>\n",
              "    <tr>\n",
              "      <th>2</th>\n",
              "      <td>1</td>\n",
              "      <td>0</td>\n",
              "    </tr>\n",
              "    <tr>\n",
              "      <th>3</th>\n",
              "      <td>0</td>\n",
              "      <td>1</td>\n",
              "    </tr>\n",
              "  </tbody>\n",
              "</table>\n",
              "</div>"
            ],
            "text/plain": [
              "   stage_3  stage_4\n",
              "0        1        0\n",
              "1        0        1\n",
              "2        1        0\n",
              "3        0        1"
            ]
          },
          "metadata": {
            "tags": []
          },
          "execution_count": 6
        }
      ]
    },
    {
      "cell_type": "markdown",
      "metadata": {
        "id": "gTYu5WjsGhMk",
        "colab_type": "text"
      },
      "source": [
        "### Multi-colinearity of one-hot encoded features\n",
        "\n",
        "Looking at the results of the one-hot encode, it becomes clear (because we only have to possible values: 0 & 1)that if the value of `stage_3` is $1$ the value of `stage_4` is $0$ and if the value of `stage_4` is $1$ the value of `stage_3` is $0$. This tells us that one of the columns is redundant and can therefore be safely dropped from the dataframe. We drop this redundant column to prevent multi-colinearity (where one feature can predict another feature).\n",
        "There are two ways to drop the column:\n",
        "1.   By passing the argument `drop_first=True`   \n",
        "2.   Or by using `.drop(columns='column_name')`\n",
        "\n"
      ]
    },
    {
      "cell_type": "code",
      "metadata": {
        "id": "H0i3ar_CF3oQ",
        "colab_type": "code",
        "colab": {
          "base_uri": "https://localhost:8080/",
          "height": 173
        },
        "outputId": "3de0f23b-5d61-4973-8bed-dfa8fcd7b0cd"
      },
      "source": [
        "# Drop column using method 1\n",
        "\n",
        "df_stage_drop_mthd1 = pd.get_dummies(data= df,\n",
        "                                     columns=['stage'],\n",
        "                                     drop_first=True)\n",
        "df_stage_drop_mthd1"
      ],
      "execution_count": 7,
      "outputs": [
        {
          "output_type": "execute_result",
          "data": {
            "text/html": [
              "<div>\n",
              "<style scoped>\n",
              "    .dataframe tbody tr th:only-of-type {\n",
              "        vertical-align: middle;\n",
              "    }\n",
              "\n",
              "    .dataframe tbody tr th {\n",
              "        vertical-align: top;\n",
              "    }\n",
              "\n",
              "    .dataframe thead th {\n",
              "        text-align: right;\n",
              "    }\n",
              "</style>\n",
              "<table border=\"1\" class=\"dataframe\">\n",
              "  <thead>\n",
              "    <tr style=\"text-align: right;\">\n",
              "      <th></th>\n",
              "      <th>ascites</th>\n",
              "      <th>edema</th>\n",
              "      <th>cholesterol</th>\n",
              "      <th>stage_4</th>\n",
              "    </tr>\n",
              "  </thead>\n",
              "  <tbody>\n",
              "    <tr>\n",
              "      <th>0</th>\n",
              "      <td>0</td>\n",
              "      <td>0.5</td>\n",
              "      <td>200.5</td>\n",
              "      <td>0</td>\n",
              "    </tr>\n",
              "    <tr>\n",
              "      <th>1</th>\n",
              "      <td>1</td>\n",
              "      <td>0.0</td>\n",
              "      <td>180.2</td>\n",
              "      <td>1</td>\n",
              "    </tr>\n",
              "    <tr>\n",
              "      <th>2</th>\n",
              "      <td>0</td>\n",
              "      <td>1.0</td>\n",
              "      <td>190.5</td>\n",
              "      <td>0</td>\n",
              "    </tr>\n",
              "    <tr>\n",
              "      <th>3</th>\n",
              "      <td>1</td>\n",
              "      <td>0.5</td>\n",
              "      <td>210.3</td>\n",
              "      <td>1</td>\n",
              "    </tr>\n",
              "  </tbody>\n",
              "</table>\n",
              "</div>"
            ],
            "text/plain": [
              "   ascites  edema  cholesterol  stage_4\n",
              "0        0    0.5        200.5        0\n",
              "1        1    0.0        180.2        1\n",
              "2        0    1.0        190.5        0\n",
              "3        1    0.5        210.3        1"
            ]
          },
          "metadata": {
            "tags": []
          },
          "execution_count": 7
        }
      ]
    },
    {
      "cell_type": "code",
      "metadata": {
        "id": "5LdRNZnCIa3V",
        "colab_type": "code",
        "colab": {
          "base_uri": "https://localhost:8080/",
          "height": 173
        },
        "outputId": "09b8bea2-2cf1-4d98-e246-17ad0319cd3e"
      },
      "source": [
        "# Drop column using method 2\n",
        "\n",
        "df_stage_drop_mthd2 = df_stage.drop(columns='stage_3')\n",
        "df_stage_drop_mthd2"
      ],
      "execution_count": 8,
      "outputs": [
        {
          "output_type": "execute_result",
          "data": {
            "text/html": [
              "<div>\n",
              "<style scoped>\n",
              "    .dataframe tbody tr th:only-of-type {\n",
              "        vertical-align: middle;\n",
              "    }\n",
              "\n",
              "    .dataframe tbody tr th {\n",
              "        vertical-align: top;\n",
              "    }\n",
              "\n",
              "    .dataframe thead th {\n",
              "        text-align: right;\n",
              "    }\n",
              "</style>\n",
              "<table border=\"1\" class=\"dataframe\">\n",
              "  <thead>\n",
              "    <tr style=\"text-align: right;\">\n",
              "      <th></th>\n",
              "      <th>ascites</th>\n",
              "      <th>edema</th>\n",
              "      <th>cholesterol</th>\n",
              "      <th>stage_4</th>\n",
              "    </tr>\n",
              "  </thead>\n",
              "  <tbody>\n",
              "    <tr>\n",
              "      <th>0</th>\n",
              "      <td>0</td>\n",
              "      <td>0.5</td>\n",
              "      <td>200.5</td>\n",
              "      <td>0</td>\n",
              "    </tr>\n",
              "    <tr>\n",
              "      <th>1</th>\n",
              "      <td>1</td>\n",
              "      <td>0.0</td>\n",
              "      <td>180.2</td>\n",
              "      <td>1</td>\n",
              "    </tr>\n",
              "    <tr>\n",
              "      <th>2</th>\n",
              "      <td>0</td>\n",
              "      <td>1.0</td>\n",
              "      <td>190.5</td>\n",
              "      <td>0</td>\n",
              "    </tr>\n",
              "    <tr>\n",
              "      <th>3</th>\n",
              "      <td>1</td>\n",
              "      <td>0.5</td>\n",
              "      <td>210.3</td>\n",
              "      <td>1</td>\n",
              "    </tr>\n",
              "  </tbody>\n",
              "</table>\n",
              "</div>"
            ],
            "text/plain": [
              "   ascites  edema  cholesterol  stage_4\n",
              "0        0    0.5        200.5        0\n",
              "1        1    0.0        180.2        1\n",
              "2        0    1.0        190.5        0\n",
              "3        1    0.5        210.3        1"
            ]
          },
          "metadata": {
            "tags": []
          },
          "execution_count": 8
        }
      ]
    },
    {
      "cell_type": "code",
      "metadata": {
        "id": "kSh5W1ffIzmx",
        "colab_type": "code",
        "colab": {}
      },
      "source": [
        ""
      ],
      "execution_count": 0,
      "outputs": []
    }
  ]
}