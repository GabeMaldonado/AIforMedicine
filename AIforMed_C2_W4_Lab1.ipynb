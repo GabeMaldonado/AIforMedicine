{
  "nbformat": 4,
  "nbformat_minor": 0,
  "metadata": {
    "colab": {
      "name": "AIforMed_C2_W4_Lab1.ipynb",
      "provenance": [],
      "authorship_tag": "ABX9TyP44IwWUlonP8rEzTiBZeKm",
      "include_colab_link": true
    },
    "kernelspec": {
      "name": "python3",
      "display_name": "Python 3"
    }
  },
  "cells": [
    {
      "cell_type": "markdown",
      "metadata": {
        "id": "view-in-github",
        "colab_type": "text"
      },
      "source": [
        "<a href=\"https://colab.research.google.com/github/GabeMaldonado/AIforMedicine/blob/master/AIforMed_C2_W4_Lab1.ipynb\" target=\"_parent\"><img src=\"https://colab.research.google.com/assets/colab-badge.svg\" alt=\"Open In Colab\"/></a>"
      ]
    },
    {
      "cell_type": "markdown",
      "metadata": {
        "id": "uQ5Vdfogz2db",
        "colab_type": "text"
      },
      "source": [
        "# Categorical Variables and One-hot Encoding\n",
        "\n"
      ]
    },
    {
      "cell_type": "code",
      "metadata": {
        "id": "vrGveNDU0Hxx",
        "colab_type": "code",
        "colab": {}
      },
      "source": [
        "import pandas as pd"
      ],
      "execution_count": 0,
      "outputs": []
    },
    {
      "cell_type": "code",
      "metadata": {
        "id": "NJNqZsBd0Jjf",
        "colab_type": "code",
        "colab": {
          "base_uri": "https://localhost:8080/",
          "height": 173
        },
        "outputId": "ced4240e-9c9c-42c9-90f1-3c4f9735dcb4"
      },
      "source": [
        "# Create an example dataframe\n",
        "\n",
        "df = pd.DataFrame({'ascites' : [0,1, 0, 1 ],\n",
        "                   'edema' : [0.5, 0, 1, 0.5],\n",
        "                   'stage' : [3, 4, 3, 4],\n",
        "                   'cholesterol' : [200.5,180.2,190.5,210.3]}\n",
        "                  )\n",
        "df"
      ],
      "execution_count": 3,
      "outputs": [
        {
          "output_type": "execute_result",
          "data": {
            "text/html": [
              "<div>\n",
              "<style scoped>\n",
              "    .dataframe tbody tr th:only-of-type {\n",
              "        vertical-align: middle;\n",
              "    }\n",
              "\n",
              "    .dataframe tbody tr th {\n",
              "        vertical-align: top;\n",
              "    }\n",
              "\n",
              "    .dataframe thead th {\n",
              "        text-align: right;\n",
              "    }\n",
              "</style>\n",
              "<table border=\"1\" class=\"dataframe\">\n",
              "  <thead>\n",
              "    <tr style=\"text-align: right;\">\n",
              "      <th></th>\n",
              "      <th>ascites</th>\n",
              "      <th>edema</th>\n",
              "      <th>stage</th>\n",
              "      <th>cholesterol</th>\n",
              "    </tr>\n",
              "  </thead>\n",
              "  <tbody>\n",
              "    <tr>\n",
              "      <th>0</th>\n",
              "      <td>0</td>\n",
              "      <td>0.5</td>\n",
              "      <td>3</td>\n",
              "      <td>200.5</td>\n",
              "    </tr>\n",
              "    <tr>\n",
              "      <th>1</th>\n",
              "      <td>1</td>\n",
              "      <td>0.0</td>\n",
              "      <td>4</td>\n",
              "      <td>180.2</td>\n",
              "    </tr>\n",
              "    <tr>\n",
              "      <th>2</th>\n",
              "      <td>0</td>\n",
              "      <td>1.0</td>\n",
              "      <td>3</td>\n",
              "      <td>190.5</td>\n",
              "    </tr>\n",
              "    <tr>\n",
              "      <th>3</th>\n",
              "      <td>1</td>\n",
              "      <td>0.5</td>\n",
              "      <td>4</td>\n",
              "      <td>210.3</td>\n",
              "    </tr>\n",
              "  </tbody>\n",
              "</table>\n",
              "</div>"
            ],
            "text/plain": [
              "   ascites  edema  stage  cholesterol\n",
              "0        0    0.5      3        200.5\n",
              "1        1    0.0      4        180.2\n",
              "2        0    1.0      3        190.5\n",
              "3        1    0.5      4        210.3"
            ]
          },
          "metadata": {
            "tags": []
          },
          "execution_count": 3
        }
      ]
    },
    {
      "cell_type": "markdown",
      "metadata": {
        "id": "BwAMpwfL1RW-",
        "colab_type": "text"
      },
      "source": [
        "In this small example dataframe we can see three categorical variables: \n",
        "*   'ascites' -- its values are either 0 and 1\n",
        "*   'edema' -- it's values are either 0, 0.5 or 1 \n",
        "*   'stage' -- it's values are either 3 or 4\n",
        "\n",
        "'Cholesterol' is not a categorical variable, it is a continous variable and it can be any number greater than 0.\n",
        "\n",
        "### Which categorical variables to one-hot encode?\n",
        "We can see that:\n",
        "*    ascites' values are already either 1 or 0 so there is no need to one-hot encode it. 1 means a disease is present and 0 means no disease. \n",
        "*   Edema, (swelling in any part of the body), has 3 categories represented by the values of 0, 0.5 and 1. We can one-hot encode this variable so that there is one feature column for each of the possible values:\n",
        "   *   0 -- no edema\n",
        "   *   0.5 -- patient has edema but has not received diuretic treatment \n",
        "   *   1 -- patient has edema despite receiving diuretic treatment -- indicates that the condition can be more severe\n"
      ]
    },
    {
      "cell_type": "code",
      "metadata": {
        "id": "RJgPRpXe05y4",
        "colab_type": "code",
        "colab": {}
      },
      "source": [
        ""
      ],
      "execution_count": 0,
      "outputs": []
    }
  ]
}